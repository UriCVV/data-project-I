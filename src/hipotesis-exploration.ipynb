{
 "cells": [
  {
   "cell_type": "markdown",
   "metadata": {},
   "source": [
    "# Shark attack data project"
   ]
  },
  {
   "cell_type": "markdown",
   "metadata": {},
   "source": [
    "#### Import data, explore it, determine what needs to be cleaned or removed in order to make data useful and make hipotesis/questions"
   ]
  },
  {
   "cell_type": "code",
   "execution_count": 35,
   "metadata": {},
   "outputs": [],
   "source": [
    "import numpy as np\n",
    "import pandas as pd\n",
    "import os\n",
    "import matplotlib as plt\n",
    "import seaborn as sns\n",
    "import warnings\n",
    "warnings.filterwarnings('ignore')\n"
   ]
  },
  {
   "cell_type": "code",
   "execution_count": 3,
   "metadata": {},
   "outputs": [],
   "source": [
    "attacks = pd.read_csv(\"../data/attacks.csv\", encoding='latin1')\n"
   ]
  },
  {
   "cell_type": "code",
   "execution_count": 211,
   "metadata": {},
   "outputs": [
    {
     "data": {
      "text/html": [
       "<div>\n",
       "<style scoped>\n",
       "    .dataframe tbody tr th:only-of-type {\n",
       "        vertical-align: middle;\n",
       "    }\n",
       "\n",
       "    .dataframe tbody tr th {\n",
       "        vertical-align: top;\n",
       "    }\n",
       "\n",
       "    .dataframe thead th {\n",
       "        text-align: right;\n",
       "    }\n",
       "</style>\n",
       "<table border=\"1\" class=\"dataframe\">\n",
       "  <thead>\n",
       "    <tr style=\"text-align: right;\">\n",
       "      <th></th>\n",
       "      <th>Case Number</th>\n",
       "      <th>Date</th>\n",
       "      <th>Year</th>\n",
       "      <th>Type</th>\n",
       "      <th>Country</th>\n",
       "      <th>Area</th>\n",
       "      <th>Location</th>\n",
       "      <th>Activity</th>\n",
       "      <th>Name</th>\n",
       "      <th>Sex</th>\n",
       "      <th>Age</th>\n",
       "      <th>Injury</th>\n",
       "      <th>Fatal (Y/N)</th>\n",
       "      <th>Time</th>\n",
       "      <th>Species</th>\n",
       "      <th>Investigator or Source</th>\n",
       "      <th>pdf</th>\n",
       "      <th>href formula</th>\n",
       "      <th>href</th>\n",
       "      <th>Case Number.1</th>\n",
       "      <th>Case Number.2</th>\n",
       "      <th>original order</th>\n",
       "      <th>Unnamed: 22</th>\n",
       "      <th>Unnamed: 23</th>\n",
       "    </tr>\n",
       "  </thead>\n",
       "  <tbody>\n",
       "    <tr>\n",
       "      <th>25496</th>\n",
       "      <td>NaN</td>\n",
       "      <td>NaN</td>\n",
       "      <td>NaN</td>\n",
       "      <td>NaN</td>\n",
       "      <td>NaN</td>\n",
       "      <td>NaN</td>\n",
       "      <td>NaN</td>\n",
       "      <td>NaN</td>\n",
       "      <td>NaN</td>\n",
       "      <td>NaN</td>\n",
       "      <td>NaN</td>\n",
       "      <td>NaN</td>\n",
       "      <td>NaN</td>\n",
       "      <td>NaN</td>\n",
       "      <td>NaN</td>\n",
       "      <td>NaN</td>\n",
       "      <td>NaN</td>\n",
       "      <td>NaN</td>\n",
       "      <td>NaN</td>\n",
       "      <td>NaN</td>\n",
       "      <td>NaN</td>\n",
       "      <td>NaN</td>\n",
       "      <td>NaN</td>\n",
       "      <td>NaN</td>\n",
       "    </tr>\n",
       "  </tbody>\n",
       "</table>\n",
       "</div>"
      ],
      "text/plain": [
       "      Case Number Date  Year Type Country Area Location Activity Name Sex   \\\n",
       "25496         NaN  NaN   NaN  NaN     NaN  NaN      NaN      NaN  NaN  NaN   \n",
       "\n",
       "       Age Injury Fatal (Y/N) Time Species  Investigator or Source  pdf  \\\n",
       "25496  NaN    NaN         NaN  NaN      NaN                    NaN  NaN   \n",
       "\n",
       "      href formula href Case Number.1 Case Number.2  original order  \\\n",
       "25496          NaN  NaN           NaN           NaN             NaN   \n",
       "\n",
       "      Unnamed: 22 Unnamed: 23  \n",
       "25496         NaN         NaN  "
      ]
     },
     "execution_count": 211,
     "metadata": {},
     "output_type": "execute_result"
    }
   ],
   "source": [
    "pd.set_option('display.max_columns', None) #Displays all the columns if they don't fit in the notebook\n",
    "attacks.sample()"
   ]
  },
  {
   "cell_type": "markdown",
   "metadata": {},
   "source": [
    "### `What would be interesting to find out?`"
   ]
  },
  {
   "cell_type": "markdown",
   "metadata": {},
   "source": [
    "- Are sahrks gender discriminative?\n",
    "- Waht percentage of the attacks occur when doing activities like boat trips, fishing, surfing...?\n",
    "- ~~Which species is te most agresive?~~ (too many unique values)\n",
    "- Whats the mortality rate of a shark attack?\n",
    "- Do they increase or decrease alongst the years?\n",
    "- What are the most common injuries (parts of the body)?\n",
    "- How many megalodon attack are...?\n",
    "- what time of the day do more attack occur?\n",
    "- waht range of age is the most attacked?\n",
    "- where do they occur? country/region"
   ]
  },
  {
   "cell_type": "markdown",
   "metadata": {},
   "source": [
    "### `What's this data?`"
   ]
  },
  {
   "cell_type": "markdown",
   "metadata": {},
   "source": [
    "`This is a dirty and desorganized dataset of global shark attacks with the following information`\n",
    "\n",
    "- `Case number`: Case indexes\n",
    "- `Date`\n",
    "- `Year`\n",
    "- `Type`: Type of the incident that can mainly be: Boating, Unprovoked, Provoked, Questionable o Sea Disaster\n",
    "- `Country`\n",
    "- `Area`: Where the attack occured\n",
    "- `Location`: More specific location of the incident\n",
    "- `Activity`: that the person was doing when the incident happened\n",
    "- `Name`\n",
    "- `Sex`\n",
    "- `Age`\n",
    "- `Injury`: description of the injury\n",
    "- `Fatal (Y/N)`: If the person was killed \"Y\" or survived the attack \"N\".\n",
    "- `Time`: The hour and minutes wehn the incident happened\n",
    "- `Species`: The species of shark involved in the incident\n",
    "- `Investigatior or Source`: Person or entity that who carried out the case investigation (could be both)\n",
    "- `pdf`: name of document related to the incident\n",
    "- `href formula & href`: link to the actual document\n",
    "- `Case Number.1 & Case Number.2`: copies of 'Case Number'\n",
    "- `original order`: ? another identifier?????\n"
   ]
  },
  {
   "cell_type": "markdown",
   "metadata": {},
   "source": [
    "### `What needs to be cleaned?`"
   ]
  },
  {
   "cell_type": "markdown",
   "metadata": {},
   "source": [
    "- 'Unnamed: 22' and 'Unnamed: 23' are almost compleatly empty. Can drop them\n",
    "- Fix columns names. 'Sex ' and 'Species ' have space at the end.\n",
    "- From row index 8707 to the end is all NaN. Actual data goes till row 6302\n",
    "- Standarize. All Sex values should be 'F'->female, 'M'->male or 'unknown'\n",
    "- Standarize. All fatality values should be 'Y'->yes, 'N'->no or 'unknown'\n",
    "- Too many unique values in species, not useful data\n",
    "- Lots of matching values between the three identifier columns. Drop two of them and make all 'Case Number' values, unique identifier\n",
    "- Remove duplictae rows, indexes: 4688, 5709, 6295\n",
    "- Dates/ year need to be cleaned and standrized in the same format\n",
    "- Description on the activity being realized when the incident happened need to be simpler. Find out the most comon activities, use regex to put them in the same category and the rest should be unknown\n",
    "- Injury should also be cleaned with regex\n",
    "- Change all null values of the reduced list for 'unknown'\n",
    "- Type values will be: Boating, Unprovoked, Provoked, Questionable o Sea Disaster\n",
    "- Country/Area/Location: Useful data. May be deducible one with each other. it's cleanable but might take too much work???\n",
    "- Time: Useful data. might take too much work but cleanable.\n",
    "- not using the pdf for now..."
   ]
  },
  {
   "cell_type": "markdown",
   "metadata": {},
   "source": [
    "`Explorantion practices used to reach to this conclusions can be found in the section below`"
   ]
  },
  {
   "cell_type": "code",
   "execution_count": 6,
   "metadata": {},
   "outputs": [
    {
     "data": {
      "text/plain": [
       "(25723, 24)"
      ]
     },
     "execution_count": 6,
     "metadata": {},
     "output_type": "execute_result"
    }
   ],
   "source": [
    "attacks.shape"
   ]
  },
  {
   "cell_type": "markdown",
   "metadata": {},
   "source": [
    "##### Exploration methods/attributes\n",
    "\n",
    "- table\n",
    "    - attacks.shape`\n",
    "    - attacks.columns`\n",
    "    - attacks.info\n",
    "- cohesiveness of data\n",
    "    - attacks.duplicated\n",
    "    - attacks.ina().sum()\n",
    "- values\n",
    "    - attacks.dtypes: categorical / qty / str, int, float\n",
    "    - attacks.describe, # qtve variables\n",
    "    - attacks[col1].value_counts() # frequency of each level of cat, dimensions\n",
    "    - attacks.unique()/.nunique()"
   ]
  },
  {
   "cell_type": "code",
   "execution_count": 77,
   "metadata": {},
   "outputs": [
    {
     "name": "stdout",
     "output_type": "stream",
     "text": [
      "<class 'pandas.core.frame.DataFrame'>\n",
      "RangeIndex: 25723 entries, 0 to 25722\n",
      "Data columns (total 24 columns):\n",
      " #   Column                  Non-Null Count  Dtype  \n",
      "---  ------                  --------------  -----  \n",
      " 0   Case Number             8702 non-null   object \n",
      " 1   Date                    6302 non-null   object \n",
      " 2   Year                    6300 non-null   float64\n",
      " 3   Type                    6298 non-null   object \n",
      " 4   Country                 6252 non-null   object \n",
      " 5   Area                    5847 non-null   object \n",
      " 6   Location                5762 non-null   object \n",
      " 7   Activity                5758 non-null   object \n",
      " 8   Name                    6092 non-null   object \n",
      " 9   Sex                     5737 non-null   object \n",
      " 10  Age                     3471 non-null   object \n",
      " 11  Injury                  6274 non-null   object \n",
      " 12  Fatal (Y/N)             5763 non-null   object \n",
      " 13  Time                    2948 non-null   object \n",
      " 14  Species                 3464 non-null   object \n",
      " 15  Investigator or Source  6285 non-null   object \n",
      " 16  pdf                     6302 non-null   object \n",
      " 17  href formula            6301 non-null   object \n",
      " 18  href                    6302 non-null   object \n",
      " 19  Case Number.1           6302 non-null   object \n",
      " 20  Case Number.2           6302 non-null   object \n",
      " 21  original order          6309 non-null   float64\n",
      " 22  Unnamed: 22             1 non-null      object \n",
      " 23  Unnamed: 23             2 non-null      object \n",
      "dtypes: float64(2), object(22)\n",
      "memory usage: 22.8 MB\n"
     ]
    }
   ],
   "source": [
    "attacks.info(memory_usage='deep')"
   ]
  },
  {
   "cell_type": "code",
   "execution_count": 8,
   "metadata": {},
   "outputs": [
    {
     "data": {
      "text/plain": [
       "Case Number               17021\n",
       "Date                      19421\n",
       "Year                      19423\n",
       "Type                      19425\n",
       "Country                   19471\n",
       "Area                      19876\n",
       "Location                  19961\n",
       "Activity                  19965\n",
       "Name                      19631\n",
       "Sex                       19986\n",
       "Age                       22252\n",
       "Injury                    19449\n",
       "Fatal (Y/N)               19960\n",
       "Time                      22775\n",
       "Species                   22259\n",
       "Investigator or Source    19438\n",
       "pdf                       19421\n",
       "href formula              19422\n",
       "href                      19421\n",
       "Case Number.1             19421\n",
       "Case Number.2             19421\n",
       "original order            19414\n",
       "Unnamed: 22               25722\n",
       "Unnamed: 23               25721\n",
       "dtype: int64"
      ]
     },
     "execution_count": 8,
     "metadata": {},
     "output_type": "execute_result"
    }
   ],
   "source": [
    "attacks.isna().sum()\n",
    "# 'Unnamed: 22' and 'Unnamed: 23' are almost compleatly empty. Can drop them"
   ]
  },
  {
   "cell_type": "code",
   "execution_count": 17,
   "metadata": {},
   "outputs": [
    {
     "data": {
      "text/plain": [
       "['Case Number',\n",
       " 'Date',\n",
       " 'Year',\n",
       " 'Type',\n",
       " 'Country',\n",
       " 'Area',\n",
       " 'Location',\n",
       " 'Activity',\n",
       " 'Name',\n",
       " 'Sex ',\n",
       " 'Age',\n",
       " 'Injury',\n",
       " 'Fatal (Y/N)',\n",
       " 'Time',\n",
       " 'Species ',\n",
       " 'Investigator or Source',\n",
       " 'pdf',\n",
       " 'href formula',\n",
       " 'href',\n",
       " 'Case Number.1',\n",
       " 'Case Number.2',\n",
       " 'original order',\n",
       " 'Unnamed: 22',\n",
       " 'Unnamed: 23']"
      ]
     },
     "execution_count": 17,
     "metadata": {},
     "output_type": "execute_result"
    }
   ],
   "source": [
    "attacks.columns.values.tolist()\n",
    "#Fix columns names. Sex and species have space at the end."
   ]
  },
  {
   "cell_type": "code",
   "execution_count": 9,
   "metadata": {},
   "outputs": [
    {
     "data": {
      "text/plain": [
       "17020"
      ]
     },
     "execution_count": 9,
     "metadata": {},
     "output_type": "execute_result"
    }
   ],
   "source": [
    "attacks.isna().all(axis=1).sum()"
   ]
  },
  {
   "cell_type": "code",
   "execution_count": 10,
   "metadata": {},
   "outputs": [
    {
     "data": {
      "text/plain": [
       "8702"
      ]
     },
     "execution_count": 10,
     "metadata": {},
     "output_type": "execute_result"
    }
   ],
   "source": [
    "attacks.index[attacks.isna().all(axis=1)].min()"
   ]
  },
  {
   "cell_type": "code",
   "execution_count": 11,
   "metadata": {},
   "outputs": [
    {
     "data": {
      "text/plain": [
       "25721"
      ]
     },
     "execution_count": 11,
     "metadata": {},
     "output_type": "execute_result"
    }
   ],
   "source": [
    "attacks.index[attacks.isna().all(axis=1)].max()\n",
    "#From row index 8707 to the end is all NaN"
   ]
  },
  {
   "cell_type": "code",
   "execution_count": 40,
   "metadata": {},
   "outputs": [
    {
     "data": {
      "text/plain": [
       "25722"
      ]
     },
     "execution_count": 40,
     "metadata": {},
     "output_type": "execute_result"
    }
   ],
   "source": [
    "attacks.index.max()"
   ]
  },
  {
   "cell_type": "code",
   "execution_count": 59,
   "metadata": {},
   "outputs": [
    {
     "data": {
      "text/plain": [
       "Case Number                xx\n",
       "Date                      NaN\n",
       "Year                      NaN\n",
       "Type                      NaN\n",
       "Country                   NaN\n",
       "Area                      NaN\n",
       "Location                  NaN\n",
       "Activity                  NaN\n",
       "Name                      NaN\n",
       "Sex                       NaN\n",
       "Age                       NaN\n",
       "Injury                    NaN\n",
       "Fatal (Y/N)               NaN\n",
       "Time                      NaN\n",
       "Species                   NaN\n",
       "Investigator or Source    NaN\n",
       "pdf                       NaN\n",
       "href formula              NaN\n",
       "href                      NaN\n",
       "Case Number.1             NaN\n",
       "Case Number.2             NaN\n",
       "original order            NaN\n",
       "Unnamed: 22               NaN\n",
       "Unnamed: 23               NaN\n",
       "Name: 25722, dtype: object"
      ]
     },
     "execution_count": 59,
     "metadata": {},
     "output_type": "execute_result"
    }
   ],
   "source": [
    "attacks.iloc[25722]"
   ]
  },
  {
   "cell_type": "code",
   "execution_count": 99,
   "metadata": {},
   "outputs": [
    {
     "data": {
      "text/plain": [
       "Case Number                    0\n",
       "Date                         NaN\n",
       "Year                         NaN\n",
       "Type                         NaN\n",
       "Country                      NaN\n",
       "Area                         NaN\n",
       "Location                     NaN\n",
       "Activity                     NaN\n",
       "Name                         NaN\n",
       "Sex                          NaN\n",
       "Age                          NaN\n",
       "Injury                       NaN\n",
       "Fatal (Y/N)                  NaN\n",
       "Time                         NaN\n",
       "Species                      NaN\n",
       "Investigator or Source       NaN\n",
       "pdf                          NaN\n",
       "href formula                 NaN\n",
       "href                         NaN\n",
       "Case Number.1                NaN\n",
       "Case Number.2                NaN\n",
       "original order            6304.0\n",
       "Unnamed: 22                  NaN\n",
       "Unnamed: 23                  NaN\n",
       "Name: 6302, dtype: object"
      ]
     },
     "execution_count": 99,
     "metadata": {},
     "output_type": "execute_result"
    }
   ],
   "source": [
    "#attacks.iloc[8701]\n",
    "#attacks.iloc[7373]\n",
    "#attacks.iloc[6373]\n",
    "attacks.iloc[6302]"
   ]
  },
  {
   "cell_type": "code",
   "execution_count": 72,
   "metadata": {},
   "outputs": [
    {
     "name": "stdout",
     "output_type": "stream",
     "text": [
      "actual data ends at row 6302\n"
     ]
    }
   ],
   "source": [
    "# check where does the actual data stops because there's lots of rows with empty values except for Case Number that has value '0'\n",
    "# columns_to_check = [col for col in attacks.columns if col != 'Case Number']\n",
    "\n",
    "# same with values of column 'original order'\n",
    "columns_to_check = [col for col in attacks.columns if col != 'Case Number' and col != 'original order']\n",
    "\n",
    "min_index = attacks[columns_to_check].isna().all(axis=1).idxmax()\n",
    "\n",
    "print(f\"actual data ends at row {min_index}\")"
   ]
  },
  {
   "cell_type": "code",
   "execution_count": 12,
   "metadata": {},
   "outputs": [
    {
     "data": {
      "text/html": [
       "<div>\n",
       "<style scoped>\n",
       "    .dataframe tbody tr th:only-of-type {\n",
       "        vertical-align: middle;\n",
       "    }\n",
       "\n",
       "    .dataframe tbody tr th {\n",
       "        vertical-align: top;\n",
       "    }\n",
       "\n",
       "    .dataframe thead th {\n",
       "        text-align: right;\n",
       "    }\n",
       "</style>\n",
       "<table border=\"1\" class=\"dataframe\">\n",
       "  <thead>\n",
       "    <tr style=\"text-align: right;\">\n",
       "      <th></th>\n",
       "      <th>Year</th>\n",
       "      <th>original order</th>\n",
       "    </tr>\n",
       "  </thead>\n",
       "  <tbody>\n",
       "    <tr>\n",
       "      <th>count</th>\n",
       "      <td>6300.000000</td>\n",
       "      <td>6309.000000</td>\n",
       "    </tr>\n",
       "    <tr>\n",
       "      <th>mean</th>\n",
       "      <td>1927.272381</td>\n",
       "      <td>3155.999683</td>\n",
       "    </tr>\n",
       "    <tr>\n",
       "      <th>std</th>\n",
       "      <td>281.116308</td>\n",
       "      <td>1821.396206</td>\n",
       "    </tr>\n",
       "    <tr>\n",
       "      <th>min</th>\n",
       "      <td>0.000000</td>\n",
       "      <td>2.000000</td>\n",
       "    </tr>\n",
       "    <tr>\n",
       "      <th>25%</th>\n",
       "      <td>1942.000000</td>\n",
       "      <td>1579.000000</td>\n",
       "    </tr>\n",
       "    <tr>\n",
       "      <th>50%</th>\n",
       "      <td>1977.000000</td>\n",
       "      <td>3156.000000</td>\n",
       "    </tr>\n",
       "    <tr>\n",
       "      <th>75%</th>\n",
       "      <td>2005.000000</td>\n",
       "      <td>4733.000000</td>\n",
       "    </tr>\n",
       "    <tr>\n",
       "      <th>max</th>\n",
       "      <td>2018.000000</td>\n",
       "      <td>6310.000000</td>\n",
       "    </tr>\n",
       "  </tbody>\n",
       "</table>\n",
       "</div>"
      ],
      "text/plain": [
       "              Year  original order\n",
       "count  6300.000000     6309.000000\n",
       "mean   1927.272381     3155.999683\n",
       "std     281.116308     1821.396206\n",
       "min       0.000000        2.000000\n",
       "25%    1942.000000     1579.000000\n",
       "50%    1977.000000     3156.000000\n",
       "75%    2005.000000     4733.000000\n",
       "max    2018.000000     6310.000000"
      ]
     },
     "execution_count": 12,
     "metadata": {},
     "output_type": "execute_result"
    }
   ],
   "source": [
    "attacks.describe()"
   ]
  },
  {
   "cell_type": "code",
   "execution_count": 15,
   "metadata": {},
   "outputs": [
    {
     "data": {
      "text/plain": [
       "array(['F', 'M', nan, 'M ', 'lli', 'N', '.'], dtype=object)"
      ]
     },
     "execution_count": 15,
     "metadata": {},
     "output_type": "execute_result"
    }
   ],
   "source": [
    "attacks[\"Sex \"].unique()\n",
    "#Standarize. All Sex values should be 'F'->female, 'M'->male or 'unknown'"
   ]
  },
  {
   "cell_type": "code",
   "execution_count": 140,
   "metadata": {},
   "outputs": [
    {
     "data": {
      "text/plain": [
       "565"
      ]
     },
     "execution_count": 140,
     "metadata": {},
     "output_type": "execute_result"
    }
   ],
   "source": [
    "attacks[:6302][\"Sex \"].isna().sum()"
   ]
  },
  {
   "cell_type": "code",
   "execution_count": 16,
   "metadata": {},
   "outputs": [
    {
     "data": {
      "text/plain": [
       "array(['N', 'Y', nan, 'M', 'UNKNOWN', '2017', ' N', 'N ', 'y'],\n",
       "      dtype=object)"
      ]
     },
     "execution_count": 16,
     "metadata": {},
     "output_type": "execute_result"
    }
   ],
   "source": [
    "attacks[\"Fatal (Y/N)\"].unique()\n",
    "#Standarize. All fatality values should be 'Y'->yes, 'N'->no or 'unknown'"
   ]
  },
  {
   "cell_type": "code",
   "execution_count": 141,
   "metadata": {},
   "outputs": [
    {
     "data": {
      "text/plain": [
       "539"
      ]
     },
     "execution_count": 141,
     "metadata": {},
     "output_type": "execute_result"
    }
   ],
   "source": [
    "attacks[:6302][\"Fatal (Y/N)\"].isna().sum()"
   ]
  },
  {
   "cell_type": "code",
   "execution_count": 13,
   "metadata": {},
   "outputs": [
    {
     "data": {
      "text/plain": [
       "1549"
      ]
     },
     "execution_count": 13,
     "metadata": {},
     "output_type": "execute_result"
    }
   ],
   "source": [
    "attacks[\"Species \"].nunique()\n",
    "#Too many unique values in species, not useful data"
   ]
  },
  {
   "cell_type": "code",
   "execution_count": 81,
   "metadata": {},
   "outputs": [
    {
     "name": "stdout",
     "output_type": "stream",
     "text": [
      "6278 24\n"
     ]
    }
   ],
   "source": [
    "# attacks['Case Number'].equals(attacks['Case Number.1']) -> False\n",
    "# attacks['Case Number'].equals(attacks['Case Number.2']) -> False\n",
    "# attacks['Case Number.1'].equals(attacks['Case Number.2']) -> False\n",
    "\n",
    "matching_cases = attacks.iloc[:6302][attacks['Case Number'] == attacks['Case Number.1']]\n",
    "non_matching_cases = attacks.iloc[:6302][attacks['Case Number'] != attacks['Case Number.1']]\n",
    "\n",
    "matching_count = matching_cases.shape[0]\n",
    "non_matching_count = non_matching_cases.shape[0]\n",
    "\n",
    "print(matching_count, non_matching_count)\n",
    "# When comparing seems like NaN != NaN. These are not counted as a match. No need to use the index 8702 .\n"
   ]
  },
  {
   "cell_type": "code",
   "execution_count": 181,
   "metadata": {},
   "outputs": [
    {
     "name": "stdout",
     "output_type": "stream",
     "text": [
      "Case Number and Case Number.1 have 6278 matching values and 24 non-matching values\n",
      "Case Number and Case Number.2 have 6298 matching values and 4 non-matching values\n",
      "Case Number.1 and Case Number.2 have 6282 matching values and 20 non-matching values\n",
      "href and href formula have 6242 matching values and 60 non-matching values\n"
     ]
    }
   ],
   "source": [
    "column_pairs = [\n",
    "    ('Case Number', 'Case Number.1'),\n",
    "    ('Case Number', 'Case Number.2'),\n",
    "    ('Case Number.1', 'Case Number.2'),\n",
    "    ('href', 'href formula')\n",
    "]\n",
    "\n",
    "results = []\n",
    "\n",
    "for column1, column2 in column_pairs:\n",
    "    matching_count = attacks.iloc[:6302][attacks[column1] == attacks[column2]].shape[0]\n",
    "    non_matching_count = attacks.iloc[:6302][attacks[column1] != attacks[column2]].shape[0]\n",
    "    result_string = f\"{column1} and {column2} have {matching_count} matching values and {non_matching_count} non-matching values\"\n",
    "    results.append(result_string)\n",
    "\n",
    "for result in results:\n",
    "    print(result)"
   ]
  },
  {
   "cell_type": "code",
   "execution_count": 76,
   "metadata": {},
   "outputs": [
    {
     "data": {
      "text/plain": [
       "False"
      ]
     },
     "execution_count": 76,
     "metadata": {},
     "output_type": "execute_result"
    }
   ],
   "source": [
    "attacks[\"Case Number\"].is_unique\n",
    "#Lots of matching values between the three identifier columns. Drop two of them and make all 'Case Number' values, unique identifier"
   ]
  },
  {
   "cell_type": "code",
   "execution_count": 185,
   "metadata": {},
   "outputs": [
    {
     "data": {
      "text/plain": [
       "0"
      ]
     },
     "execution_count": 185,
     "metadata": {},
     "output_type": "execute_result"
    }
   ],
   "source": [
    "#href formula can be droped, because its almost the same as href\n",
    "attacks[:6302][\"href\"].isna().sum()"
   ]
  },
  {
   "cell_type": "code",
   "execution_count": 79,
   "metadata": {},
   "outputs": [
    {
     "data": {
      "text/plain": [
       "True"
      ]
     },
     "execution_count": 79,
     "metadata": {},
     "output_type": "execute_result"
    }
   ],
   "source": [
    "subset = attacks[['Date', 'Year', 'Type', 'Country', 'Area', 'Location', 'Activity', 'Name', 'Sex ', 'Age', 'Injury', 'Fatal (Y/N)']]\n",
    "\n",
    "subset.duplicated().any()"
   ]
  },
  {
   "cell_type": "code",
   "execution_count": 85,
   "metadata": {},
   "outputs": [
    {
     "data": {
      "text/html": [
       "<div>\n",
       "<style scoped>\n",
       "    .dataframe tbody tr th:only-of-type {\n",
       "        vertical-align: middle;\n",
       "    }\n",
       "\n",
       "    .dataframe tbody tr th {\n",
       "        vertical-align: top;\n",
       "    }\n",
       "\n",
       "    .dataframe thead th {\n",
       "        text-align: right;\n",
       "    }\n",
       "</style>\n",
       "<table border=\"1\" class=\"dataframe\">\n",
       "  <thead>\n",
       "    <tr style=\"text-align: right;\">\n",
       "      <th></th>\n",
       "      <th>Date</th>\n",
       "      <th>Year</th>\n",
       "      <th>Type</th>\n",
       "      <th>Country</th>\n",
       "      <th>Area</th>\n",
       "      <th>Location</th>\n",
       "      <th>Activity</th>\n",
       "      <th>Name</th>\n",
       "      <th>Sex</th>\n",
       "      <th>Age</th>\n",
       "      <th>Injury</th>\n",
       "      <th>Fatal (Y/N)</th>\n",
       "    </tr>\n",
       "  </thead>\n",
       "  <tbody>\n",
       "    <tr>\n",
       "      <th>4688</th>\n",
       "      <td>Fall 1943</td>\n",
       "      <td>1943.0</td>\n",
       "      <td>Unprovoked</td>\n",
       "      <td>USA</td>\n",
       "      <td>Hawaii</td>\n",
       "      <td>Midway Island, Northwestern Hawaiian Islands</td>\n",
       "      <td>Spearfishing</td>\n",
       "      <td>2 males</td>\n",
       "      <td>M</td>\n",
       "      <td>NaN</td>\n",
       "      <td>Calf nipped in each case</td>\n",
       "      <td>N</td>\n",
       "    </tr>\n",
       "    <tr>\n",
       "      <th>5709</th>\n",
       "      <td>1890</td>\n",
       "      <td>1890.0</td>\n",
       "      <td>Unprovoked</td>\n",
       "      <td>INDIA</td>\n",
       "      <td>Tamil Nadu</td>\n",
       "      <td>Tuticorin</td>\n",
       "      <td>Diving</td>\n",
       "      <td>a pearl diver</td>\n",
       "      <td>M</td>\n",
       "      <td>NaN</td>\n",
       "      <td>No details</td>\n",
       "      <td>UNKNOWN</td>\n",
       "    </tr>\n",
       "    <tr>\n",
       "      <th>6295</th>\n",
       "      <td>Before 1906</td>\n",
       "      <td>0.0</td>\n",
       "      <td>Unprovoked</td>\n",
       "      <td>AUSTRALIA</td>\n",
       "      <td>NaN</td>\n",
       "      <td>NaN</td>\n",
       "      <td>Fishing</td>\n",
       "      <td>fisherman</td>\n",
       "      <td>M</td>\n",
       "      <td>NaN</td>\n",
       "      <td>FATAL</td>\n",
       "      <td>Y</td>\n",
       "    </tr>\n",
       "  </tbody>\n",
       "</table>\n",
       "</div>"
      ],
      "text/plain": [
       "             Date    Year        Type    Country        Area  \\\n",
       "4688    Fall 1943  1943.0  Unprovoked        USA      Hawaii   \n",
       "5709         1890  1890.0  Unprovoked      INDIA  Tamil Nadu   \n",
       "6295  Before 1906     0.0  Unprovoked  AUSTRALIA         NaN   \n",
       "\n",
       "                                          Location      Activity  \\\n",
       "4688  Midway Island, Northwestern Hawaiian Islands  Spearfishing   \n",
       "5709                                     Tuticorin        Diving   \n",
       "6295                                           NaN       Fishing   \n",
       "\n",
       "               Name Sex   Age                    Injury Fatal (Y/N)  \n",
       "4688        2 males    M  NaN  Calf nipped in each case           N  \n",
       "5709  a pearl diver    M  NaN                No details     UNKNOWN  \n",
       "6295      fisherman    M  NaN                     FATAL           Y  "
      ]
     },
     "execution_count": 85,
     "metadata": {},
     "output_type": "execute_result"
    }
   ],
   "source": [
    "subset[:6302][subset.duplicated()]\n",
    "# These three rows are dublicated"
   ]
  },
  {
   "cell_type": "code",
   "execution_count": 105,
   "metadata": {},
   "outputs": [
    {
     "data": {
      "text/plain": [
       "8"
      ]
     },
     "execution_count": 105,
     "metadata": {},
     "output_type": "execute_result"
    }
   ],
   "source": [
    "attacks[\"Type\"].nunique()"
   ]
  },
  {
   "cell_type": "code",
   "execution_count": 107,
   "metadata": {},
   "outputs": [
    {
     "data": {
      "text/plain": [
       "array(['Boating', 'Unprovoked', 'Invalid', 'Provoked', 'Questionable',\n",
       "       'Sea Disaster', nan, 'Boat', 'Boatomg'], dtype=object)"
      ]
     },
     "execution_count": 107,
     "metadata": {},
     "output_type": "execute_result"
    }
   ],
   "source": [
    "attacks[\"Type\"].unique()"
   ]
  },
  {
   "cell_type": "code",
   "execution_count": 142,
   "metadata": {},
   "outputs": [
    {
     "data": {
      "text/plain": [
       "4"
      ]
     },
     "execution_count": 142,
     "metadata": {},
     "output_type": "execute_result"
    }
   ],
   "source": [
    "attacks[:6302][\"Type\"].isna().sum()"
   ]
  },
  {
   "cell_type": "code",
   "execution_count": 95,
   "metadata": {},
   "outputs": [
    {
     "data": {
      "text/plain": [
       "array([2018., 2017.,   nan, 2016., 2015., 2014., 2013., 2012., 2011.,\n",
       "       2010., 2009., 2008., 2007., 2006., 2005., 2004., 2003., 2002.,\n",
       "       2001., 2000., 1999., 1998., 1997., 1996., 1995., 1984., 1994.,\n",
       "       1993., 1992., 1991., 1990., 1989., 1969., 1988., 1987., 1986.,\n",
       "       1985., 1983., 1982., 1981., 1980., 1979., 1978., 1977., 1976.,\n",
       "       1975., 1974., 1973., 1972., 1971., 1970., 1968., 1967., 1966.,\n",
       "       1965., 1964., 1963., 1962., 1961., 1960., 1959., 1958., 1957.,\n",
       "       1956., 1955., 1954., 1953., 1952., 1951., 1950., 1949., 1948.,\n",
       "       1848., 1947., 1946., 1945., 1944., 1943., 1942., 1941., 1940.,\n",
       "       1939., 1938., 1937., 1936., 1935., 1934., 1933., 1932., 1931.,\n",
       "       1930., 1929., 1928., 1927., 1926., 1925., 1924., 1923., 1922.,\n",
       "       1921., 1920., 1919., 1918., 1917., 1916., 1915., 1914., 1913.,\n",
       "       1912., 1911., 1910., 1909., 1908., 1907., 1906., 1905., 1904.,\n",
       "       1903., 1902., 1901., 1900., 1899., 1898., 1897., 1896., 1895.,\n",
       "       1894., 1893., 1892., 1891., 1890., 1889., 1888., 1887., 1886.,\n",
       "       1885., 1884., 1883., 1882., 1881., 1880., 1879., 1878., 1877.,\n",
       "       1876., 1875., 1874., 1873., 1872., 1871., 1870., 1869., 1868.,\n",
       "       1867., 1866., 1865., 1864., 1863., 1862., 1861., 1860., 1859.,\n",
       "       1858., 1857., 1856., 1855., 1853., 1852., 1851., 1850., 1849.,\n",
       "       1847., 1846., 1845., 1844., 1842., 1841., 1840., 1839., 1837.,\n",
       "       1836., 1835., 1834., 1832., 1831., 1830., 1829., 1828., 1827.,\n",
       "       1826., 1825., 1823., 1822., 1819., 1818., 1817., 1816., 1815.,\n",
       "       1812., 1811., 1810., 1808., 1807., 1805., 1804., 1803., 1802.,\n",
       "       1801., 1800., 1797., 1792., 1791., 1788., 1787., 1786., 1785.,\n",
       "       1784., 1783., 1780., 1779., 1776., 1771., 1767., 1764., 1758.,\n",
       "       1753., 1751., 1749., 1755., 1748., 1742., 1738., 1733., 1723.,\n",
       "       1721., 1703., 1700., 1642., 1638., 1637., 1617., 1595., 1580.,\n",
       "       1555., 1554., 1543.,  500.,   77.,    5.,    0.])"
      ]
     },
     "execution_count": 95,
     "metadata": {},
     "output_type": "execute_result"
    }
   ],
   "source": [
    "#attacks[\"Year\"].nunique()\n",
    "attacks[\"Year\"].unique()"
   ]
  },
  {
   "cell_type": "code",
   "execution_count": 111,
   "metadata": {},
   "outputs": [
    {
     "data": {
      "text/plain": [
       "array(['25-Jun-2018', '18-Jun-2018', '09-Jun-2018', ..., '1883-1889',\n",
       "       '1845-1853', nan], dtype=object)"
      ]
     },
     "execution_count": 111,
     "metadata": {},
     "output_type": "execute_result"
    }
   ],
   "source": [
    "attacks[\"Date\"].nunique()\n",
    "attacks[\"Date\"].unique()\n"
   ]
  },
  {
   "cell_type": "code",
   "execution_count": 113,
   "metadata": {},
   "outputs": [
    {
     "data": {
      "text/plain": [
       "5433"
      ]
     },
     "execution_count": 113,
     "metadata": {},
     "output_type": "execute_result"
    }
   ],
   "source": [
    "attacks[\"Date\"].nunique()"
   ]
  },
  {
   "cell_type": "code",
   "execution_count": 101,
   "metadata": {},
   "outputs": [
    {
     "data": {
      "text/plain": [
       "4108"
      ]
     },
     "execution_count": 101,
     "metadata": {},
     "output_type": "execute_result"
    }
   ],
   "source": [
    "attacks[\"Location\"].nunique()\n",
    "#might be too much work"
   ]
  },
  {
   "cell_type": "code",
   "execution_count": 103,
   "metadata": {},
   "outputs": [
    {
     "data": {
      "text/plain": [
       "825"
      ]
     },
     "execution_count": 103,
     "metadata": {},
     "output_type": "execute_result"
    }
   ],
   "source": [
    "attacks[\"Area\"].nunique()\n",
    "#might be too much work"
   ]
  },
  {
   "cell_type": "code",
   "execution_count": 144,
   "metadata": {},
   "outputs": [
    {
     "data": {
      "text/plain": [
       "array(['USA', 'AUSTRALIA', 'MEXICO', 'BRAZIL', 'ENGLAND', 'SOUTH AFRICA',\n",
       "       'THAILAND', 'COSTA RICA', 'MALDIVES', 'BAHAMAS', 'NEW CALEDONIA',\n",
       "       'ECUADOR', 'MALAYSIA', 'LIBYA', nan, 'CUBA', 'MAURITIUS',\n",
       "       'NEW ZEALAND', 'SPAIN', 'SAMOA', 'SOLOMON ISLANDS', 'JAPAN',\n",
       "       'EGYPT', 'ST HELENA, British overseas territory', 'COMOROS',\n",
       "       'REUNION', 'FRENCH POLYNESIA', 'UNITED KINGDOM',\n",
       "       'UNITED ARAB EMIRATES', 'PHILIPPINES', 'INDONESIA', 'CHINA',\n",
       "       'COLUMBIA', 'CAPE VERDE', 'Fiji', 'DOMINICAN REPUBLIC',\n",
       "       'CAYMAN ISLANDS', 'ARUBA', 'MOZAMBIQUE', 'FIJI', 'PUERTO RICO',\n",
       "       'ITALY', 'ATLANTIC OCEAN', 'GREECE', 'ST. MARTIN', 'FRANCE',\n",
       "       'PAPUA NEW GUINEA', 'TRINIDAD & TOBAGO', 'KIRIBATI', 'ISRAEL',\n",
       "       'DIEGO GARCIA', 'TAIWAN', 'JAMAICA', 'PALESTINIAN TERRITORIES',\n",
       "       'GUAM', 'SEYCHELLES', 'BELIZE', 'NIGERIA', 'TONGA', 'SCOTLAND',\n",
       "       'CANADA', 'CROATIA', 'SAUDI ARABIA', 'CHILE', 'ANTIGUA', 'KENYA',\n",
       "       'RUSSIA', 'TURKS & CAICOS', 'UNITED ARAB EMIRATES (UAE)', 'AZORES',\n",
       "       'SOUTH KOREA', 'MALTA', 'VIETNAM', 'MADAGASCAR', 'PANAMA',\n",
       "       'SOMALIA', 'NEVIS', 'BRITISH VIRGIN ISLANDS', 'NORWAY', 'SENEGAL',\n",
       "       'YEMEN', 'GULF OF ADEN', 'Sierra Leone', 'ST. MAARTIN',\n",
       "       'GRAND CAYMAN', 'Seychelles', 'LIBERIA', 'VANUATU', 'MEXICO ',\n",
       "       'HONDURAS', 'VENEZUELA', 'SRI LANKA', ' TONGA', 'URUGUAY', 'INDIA',\n",
       "       'MICRONESIA', 'CARIBBEAN SEA', 'OKINAWA', 'TANZANIA',\n",
       "       'MARSHALL ISLANDS', 'EGYPT / ISRAEL', 'NORTHERN ARABIAN SEA',\n",
       "       'HONG KONG', 'EL SALVADOR', 'ANGOLA', 'BERMUDA', 'MONTENEGRO',\n",
       "       'IRAN', 'TUNISIA', 'NAMIBIA', 'NORTH ATLANTIC OCEAN', 'PORTUGAL',\n",
       "       'SOUTH CHINA SEA', 'BANGLADESH', 'PALAU', 'WESTERN SAMOA',\n",
       "       'PACIFIC OCEAN ', 'BRITISH ISLES', 'GRENADA', 'IRAQ', 'TURKEY',\n",
       "       'SINGAPORE', 'NEW BRITAIN', 'SUDAN', 'JOHNSTON ISLAND',\n",
       "       'SOUTH PACIFIC OCEAN', 'NEW GUINEA', 'RED SEA',\n",
       "       'NORTH PACIFIC OCEAN', 'FEDERATED STATES OF MICRONESIA',\n",
       "       'MID ATLANTIC OCEAN', 'ADMIRALTY ISLANDS', 'BRITISH WEST INDIES',\n",
       "       'SOUTH ATLANTIC OCEAN', 'PERSIAN GULF', 'RED SEA / INDIAN OCEAN',\n",
       "       'PACIFIC OCEAN', 'NORTH SEA', 'NICARAGUA ', 'MALDIVE ISLANDS',\n",
       "       'AMERICAN SAMOA', 'ANDAMAN / NICOBAR ISLANDAS', 'GABON', 'MAYOTTE',\n",
       "       'NORTH ATLANTIC OCEAN ', 'THE BALKANS', 'SUDAN?', 'ARGENTINA',\n",
       "       'MARTINIQUE', 'INDIAN OCEAN', 'GUATEMALA', 'NETHERLANDS ANTILLES',\n",
       "       'NORTHERN MARIANA ISLANDS', 'IRAN / IRAQ', 'JAVA', 'SIERRA LEONE',\n",
       "       ' PHILIPPINES', 'NICARAGUA', 'CENTRAL PACIFIC',\n",
       "       'SOLOMON ISLANDS / VANUATU', 'SOUTHWEST PACIFIC OCEAN',\n",
       "       'BAY OF BENGAL', 'MID-PACIFC OCEAN', 'SLOVENIA', 'CURACAO',\n",
       "       'ICELAND', 'ITALY / CROATIA', 'BARBADOS', 'MONACO', 'GUYANA',\n",
       "       'HAITI', 'SAN DOMINGO', 'IRELAND', 'KUWAIT', 'YEMEN ',\n",
       "       'REUNION ISLAND', 'FALKLAND ISLANDS', 'CRETE', 'CYPRUS', 'EGYPT ',\n",
       "       'WEST INDIES', 'BURMA', 'LEBANON', 'PARAGUAY',\n",
       "       'BRITISH NEW GUINEA', 'CEYLON', 'OCEAN', 'GEORGIA', 'SYRIA',\n",
       "       'TUVALU', 'INDIAN OCEAN?', 'GUINEA', 'ANDAMAN ISLANDS',\n",
       "       'EQUATORIAL GUINEA / CAMEROON', 'COOK ISLANDS', 'TOBAGO', 'PERU',\n",
       "       'AFRICA', 'ALGERIA', 'Coast of AFRICA', 'TASMAN SEA', 'GHANA',\n",
       "       'GREENLAND', 'MEDITERRANEAN SEA', 'SWEDEN', 'ROATAN',\n",
       "       'Between PORTUGAL & INDIA', 'DJIBOUTI', 'BAHREIN', 'KOREA',\n",
       "       'RED SEA?', 'ASIA?', 'CEYLON (SRI LANKA)'], dtype=object)"
      ]
     },
     "execution_count": 144,
     "metadata": {},
     "output_type": "execute_result"
    }
   ],
   "source": [
    "#attacks[\"Country\"].nunique()\n",
    "attacks[\"Country\"].unique()"
   ]
  },
  {
   "cell_type": "code",
   "execution_count": 175,
   "metadata": {},
   "outputs": [
    {
     "name": "stdout",
     "output_type": "stream",
     "text": [
      "['SAN DOMINGO', 'RED SEA?', 'REUNION ISLAND', 'CYPRUS', 'IRELAND', 'KUWAIT', 'ASIA?', 'MONACO', 'FALKLAND ISLANDS', 'INDIAN OCEAN?', 'PARAGUAY', 'EQUATORIAL GUINEA / CAMEROON', 'ALGERIA', 'Coast of AFRICA', 'TASMAN SEA', 'GHANA', 'AFRICA', 'PERU', 'GREENLAND', 'SWEDEN', 'COOK ISLANDS', 'ROATAN', 'BRITISH NEW GUINEA', 'ANDAMAN ISLANDS', 'Between PORTUGAL & INDIA', 'TUVALU', 'DJIBOUTI', 'SYRIA', 'GEORGIA', 'BAHREIN', 'OCEAN', 'KOREA', 'ITALY / CROATIA', 'COMOROS', 'CURACAO', 'SLOVENIA', 'BRITISH ISLES', 'WESTERN SAMOA', 'BANGLADESH', 'SOUTH CHINA SEA', 'ANGOLA', 'NORTHERN ARABIAN SEA', 'EGYPT / ISRAEL', 'MEXICO ', 'Seychelles', 'GRAND CAYMAN', 'ST. MAARTIN', 'Sierra Leone', 'GULF OF ADEN', 'BRITISH VIRGIN ISLANDS', 'NEVIS', 'MALDIVES', 'PALESTINIAN TERRITORIES', 'DIEGO GARCIA', 'ST. MARTIN', 'PUERTO RICO', 'ARUBA', 'RED SEA', 'FEDERATED STATES OF MICRONESIA', 'ADMIRALTY ISLANDS', 'ARGENTINA', 'MID-PACIFC OCEAN', 'BAY OF BENGAL', 'SOLOMON ISLANDS / VANUATU', ' PHILIPPINES', 'JAVA', 'IRAN / IRAQ', 'NORTHERN MARIANA ISLANDS', 'NETHERLANDS ANTILLES', 'GUATEMALA', 'SUDAN?', 'BRITISH WEST INDIES', 'THE BALKANS', 'NORTH ATLANTIC OCEAN ', 'MAYOTTE', 'GABON', 'ANDAMAN / NICOBAR ISLANDAS', 'MALDIVE ISLANDS', 'NICARAGUA ', 'NORTH SEA', 'RED SEA / INDIAN OCEAN', 'CEYLON (SRI LANKA)']\n"
     ]
    }
   ],
   "source": [
    "list_of_countries_to_change = []\n",
    "\n",
    "for country, count in attacks[\"Country\"].value_counts().items():\n",
    "  if count == 1:\n",
    "    list_of_countries_to_change.append(country)\n",
    "\n",
    "print(list_of_countries_to_change)"
   ]
  },
  {
   "cell_type": "code",
   "execution_count": 149,
   "metadata": {},
   "outputs": [
    {
     "data": {
      "text/plain": [
       "array(['18h00', '14h00  -15h00', '07h45', nan, 'Late afternoon', '17h00',\n",
       "       '14h00', 'Morning', '15h00', '08h15', '11h00', '10h30', '10h40',\n",
       "       '16h50', '07h00', '09h30', 'Afternoon', '21h50', '09h40', '08h00',\n",
       "       '17h35', '15h30', '07h30', '19h00, Dusk', 'Night', '16h00',\n",
       "       '15h01', '12h00', '13h45', '23h30', '09h00', '14h30', '18h30',\n",
       "       '12h30', '16h30', '18h45', '06h00', '10h00', '10h44', '13h19',\n",
       "       'Midday', '13h30', '10h45', '11h20', '11h45', '19h30', '08h30',\n",
       "       '15h45', 'Shortly before 12h00', '17h34', '17h10', '11h15',\n",
       "       '08h50', '17h45', '13h00', '10h20', '13h20', '02h00', '09h50',\n",
       "       '11h30', '17h30', '9h00', '10h43', 'After noon', '15h15', '15h40',\n",
       "       '19h05', '1300', '14h30 / 15h30', '22h00', '16h20', '14h34',\n",
       "       '15h25', '14h55', '17h46', 'Morning ', '15h49', '19h00',\n",
       "       'Midnight', '09h30 / 10h00', '10h15', '18h15', '04h00', '14h50',\n",
       "       '13h50', '19h20', '10h25', '10h45-11h15', '16h45', '15h52',\n",
       "       '06h15', '14h40', '19h45', '10h10', '08h45', 'Evening', '12h10',\n",
       "       '18h05', '11h41', '12h25', '17h51', '16h12', '12h45', '10h50',\n",
       "       '14h15', '09h45', '06h45', '05h00', '03h30',\n",
       "       'Sometime between 06h00 & 08hoo', '06h30', '17h20', '20h00',\n",
       "       '16h40', '16h18', '11h10', 'Early afternoon', '17h50',\n",
       "       '07h00 - 08h00', '18h15-18h30', '17h01', '09h57', '08h20', '17h58',\n",
       "       '20h30', '15h19', '10h55', '15h55', '23h00', '12h40', '13h55',\n",
       "       '16h05', '14h10', '15h20', '12h50', '14h45', '13h40', '13h24',\n",
       "       '09h00 - 09h30', '0830', '11h40', '08h10', '15h56', '14h20',\n",
       "       'Just before noon', '07h56', '1600', '17h17', '16h35', '09h05',\n",
       "       '07h15', '07h20', '19h28', '12h38', '05h50', '15h50', '11h05',\n",
       "       'Early morning', 'Dawn', '05h45', '13h25', '12h20', '13h26',\n",
       "       '09h11', '12h15', '13h15', '18h20', '15h35', 'AM', '13h51', 'A.M.',\n",
       "       '08h05', '19h15', '10h35', '15h44', 'Dusk', '21h00', 'Lunchtime',\n",
       "       '15j45', '09h35', '10h27', '10h16', '0500', 'Before 07h00',\n",
       "       '09h20', '10h00 -- 11h00', '12h05', '14h21', '18h50', '15h53',\n",
       "       '\"Just before 11h00\"', '11h115', '13h42', '20h15', '12h39',\n",
       "       '07h05', 'Sunset', '  ', '13h05', '11h50', '\"Evening\"',\n",
       "       'Just before sundown', '17h55', '22h30', '17h15', '16h10',\n",
       "       '11h30 ', '06h10', '16h15', 'Between 05h00 and 08h00', '07h08',\n",
       "       '17h00 or 17h40', '03h00', '>08h00', '--', '12h02', '12h55',\n",
       "       '16h14', '17h11', '00h30', '14h37', '10h07', '13h53', '11h55',\n",
       "       '13h23', 'Just after 12h00', '02h30', '08h40', '11h56', '14h35',\n",
       "       ' ', 'Early Morning', '07h50', 'Shortly after midnight', '14h25',\n",
       "       '13h345', '\\xa0 ', '06h47', '09h00 -10h00', '20h45 (Sunset)',\n",
       "       'Late morning', 'P.M.', '18h40', '13h14', '13h06',\n",
       "       'Shortly before 13h00', '12h34', '11h53', '8:04 pm', '12h46',\n",
       "       '12h48', '17h42', '12h35', 'Possibly same incident as 2000.08.21',\n",
       "       'After Dusk', '11h57', 'Noon', '17h40', '11h25', '18h25', '10h28',\n",
       "       '09h15', '14h16', '09h55', '2 hours after Opperman', '15h05',\n",
       "       '09h30 ', 'Mid afternoon', 'Mid morning', '11h48', '11h00 / 11h30',\n",
       "       '07h19', '13h37', '11h06', '\"Night\"', '18h30?', '11h58', '11h51',\n",
       "       '18h12', '07h10', '07h40', '12h33',\n",
       "       '30 minutes after 1992.07.08.a', '>06h45', '15h06', '12h54',\n",
       "       'Between 06h00 & 07h20', '16h55', '05h40', '<07h30', '21h30',\n",
       "       '17h00 Sunset', 'Nightfall', 'X', '08h57', '18h30 (Sunset)',\n",
       "       '06j00', '08h35', '10h22', '02h45', 'Prior to 10h37', 'Daybreak',\n",
       "       '18h10', '>12h00', 'Mid-morning', '08h55', '16h30 or 18h00',\n",
       "       'Just before dawn', ' 14h00', 'Daytime', '06h50', '01h00', 'Dark',\n",
       "       '10h00 / 11h00', '\"After lunch\"', '07h32', '15h00 or 15h45',\n",
       "       '>17h00', '19h00 / 20h00', '12h45 / 13h45', '14h00 - 15h00',\n",
       "       'night', '03h45 - 04h00', '13h10', '09h30 / 15h30',\n",
       "       '08h00 / 09h30', '19h35', '12h00 to 14h00', '13h35', 'Late night',\n",
       "       '01h32', '10h30 or 13h30', '16h23', '15h00j', 'Midday.',\n",
       "       '\"After dark\"', '10h00 or 14h00', '19h10', '16h25',\n",
       "       '2 hrs before sunset', '18h15 to 21h30', '1500',\n",
       "       '\"shortly before dusk\"', '>17h30', '>14h30',\n",
       "       'Between 11h00 & 12h00', 'After 04h00',\n",
       "       '11h01 -time of ship sinking', 'Ship aban-doned at 03h10', '19h55',\n",
       "       'After dusk',\n",
       "       'FATAL  (Wire netting installed at local beaches after this incident.)',\n",
       "       '01h30', 'After midnight', 'Late afternon', '05h30', '08h58',\n",
       "       '\"Early evening\"', 'Late Afternoon', '   ', 'Before daybreak',\n",
       "       'dusk', 'Before 10h30', '06h00 -- 07h00', '01h50', '17h00-18h00',\n",
       "       '19h00-20h00'], dtype=object)"
      ]
     },
     "execution_count": 149,
     "metadata": {},
     "output_type": "execute_result"
    }
   ],
   "source": [
    "attacks[\"Time\"].unique()\n",
    "# cleanable but might be too much"
   ]
  },
  {
   "cell_type": "code",
   "execution_count": 188,
   "metadata": {},
   "outputs": [
    {
     "name": "stdout",
     "output_type": "stream",
     "text": [
      "Number of valid times in column Time: 2325\n",
      "Number of invalid times in column Time: 3977\n",
      "Invalid times:\n"
     ]
    }
   ],
   "source": [
    "from dateutil.parser import parse\n",
    "def is_valid_time(time_str):\n",
    "    if isinstance(time_str, str):\n",
    "        try:\n",
    "            parse(time_str)\n",
    "            return True\n",
    "        except ValueError:\n",
    "            return False\n",
    "    return False  # Return False for non-string values\n",
    "\n",
    "# List of time columns (you can add more if needed)\n",
    "time_columns = ['Time']\n",
    "\n",
    "# Initialize counters for valid and invalid times\n",
    "valid_time_count = 0\n",
    "invalid_times = []\n",
    "\n",
    "# Iterate through time columns and check for valid times\n",
    "for column in time_columns:\n",
    "    is_valid = attacks.iloc[:6302][column].apply(is_valid_time)\n",
    "    valid_time_count += is_valid.sum()\n",
    "    \n",
    "    # Collect invalid times\n",
    "    invalid_times.extend(attacks.iloc[:6302][~is_valid][column])\n",
    "\n",
    "    print(f'Number of valid times in column {column}: {valid_time_count}')\n",
    "    print(f'Number of invalid times in column {column}: {len(invalid_times)}')\n",
    "\n",
    "print('Invalid times:')"
   ]
  },
  {
   "cell_type": "code",
   "execution_count": 130,
   "metadata": {},
   "outputs": [
    {
     "name": "stdout",
     "output_type": "stream",
     "text": [
      "Number of valid dates in column Date: 5462\n",
      "Number of invalid dates in column Date: 840\n",
      "Invalid dates:\n",
      "['Reported 30-Apr-2018', 'Reported 10-Apr-2018', 'Reported 25-Nov-2017', 'Reported 13-Nov-2017', 'Reported 31-Oct-2017', 'Reported 06-Sep-2017', 'Reported 26-Jul-2017', 'Reported 07-Jul-2017', 'Reported 14-Jun-2017', 'Reported 07-Jun-2017', 'Reported 06-May-2017', 'Reported 09-Mar-2017', 'Reported 08-Jan-2017', 'Reported  14-Jul-2016', 'Reported 08-Jul-2016', 'Reported 03-Mar-2016', 'Reported 10-Feb-2016', 'Reported 11-Jan-2016', 'Reported 25-Jun-2015', 'Reported 23-Dec-2014', 'Reported 03-Dec-2014', 'Reported 17-Nov-2014', 'Reported 12-Sep-2014', 'Reported 25-Aug-2014', 'Reported 27-Jun-2014', 'Reported 17-Jun-2014', 'Reported 10-May-2014', 'Reported 12-Apr-2014', 'Reported 17-Feb-2014', 'Reported 08-Aug-2013', 'Reported 17-Jul-2013', 'Reported 14-Jun-2013', 'Reported 02-Apr-2013', 'Reported 21-Mar-2013', 'Reported 21-Jan-2013', 'Reported 11-Oct-2012', 'Reported 28-Jun-2012', 'Reported 22-Jan-2012', 'Reported 26-Dec-2011', 'Reported 20-Nov-2011', 'Reported 28-Oct-2011', '16-Aug--2011', '11-Aug--2011', 'Reported 14-Jun-2011', 'Reported 06-Jun-2011', 'Reported 07-May-2011', 'Reported 29-Mar-2011', 'Reported 10-Mar-2010', 'Reported 28-Feb-2011', 'Reported 04-Feb-2011', 'Reported 12-Jan 2011', 'Reported 03-Dec-2010', 'Reported 27-Nov-2010', 'Reported 12-Nov-2010', 'Reported 28-Oct-2010', 'Reported 06-Sep-2010', '190Feb-2010', 'Reported 06-Feb-2010', 'Reported 29-Oct-2009', 'Reported 14-Oct-2009', 'Reported 24-Jul-2009', 'Reported 14-Jun-2009', 'Reported 25-Apr-2009', 'Reported 17-Mar-2009', 'Reported 16-Mar-2009', 'Reported 27-Jan-2009', 'Reported 26-Jan-2009', 'Reported 13-Jan-2009', 'Reported 30-Jul-2008', 'Late Jul-2008', 'Reported 26-Jun-2008', 'Reported 02-Jun-2008', 'Reported 19-Apr-2008', 'Reported 09-Apr-2008', 'Reported 08-Apr-2008', 'Reported 21-Feb-2008', 'Reported 19-Jan-2008', 'Fall 2008', 'Summer-2008', '19-Jul-2007.b', '19-Jul-2007.a', 'Reported 17-May-2007', 'Reported 09-May-2007', 'Reported      13-Apr-2007', 'Reported 14-Mar-2007', 'Reported 05-Mar-2007', 'Reported 18-Sep-2006', 'Early Aug-2006', 'Reported 17-Jul-2006', 'Reported      23-Apr-2006', 'Reported  28-Mar-2006', 'Reported 28-Jan-2006', 'Reported 06-Dec-2005', 'Reported 29-Nov-2005', 'Reported  16-Nov-2005', 'Reported      27-Sep-2005', 'Reported      15-Jul-2005', 'Reported    27-Mar-2005', ' 19-Jul-2004 Reported to have happened  \"on the weekend\"', 'Reported 15-Jan-2004 ', 'Reported 26-Jul-2003', 'Late Jul-2003', 'Reported 06-Aug-2002', 'Reported 13-Jun-2002', 'Reported 13-Jun-2002', 'Reported 21-May-2002', '02-Ap-2001', 'Reported  24-Jan-2001', 'Early Sep-2000', 'Reported 27-Aug-2000', 'Early Jun-2000', 'Reported      03-Mar-2000', 'Reported 28-Jan-2000', 'Reported 16-Sep-1999', 'Reported 18-Mar-1999 ', 'Reported 03-Jan-1999', 'Reported 20-Dec-1998', 'Reported 16-Sep-1998', 'Reported      23-Aug-1998', 'Reported 28-Jan-1998', 'Reported 05-Nov-1997', 'Reported 11-Oct-1997', 'Reported      19-Feb-1996', 'Reported 28-Oct-1995', 'Early Jul-1995', 'Reported      10-Dec-1994 ', 'Reported 11-Sep-1994', 'Reported 16-Apr-1994', 'Reported 12-Jan-1994', 'Last incident of 1994 in Hong Kong', 'Reported      19-Aug-1993', 'Late May 1993', 'Fall 1993', 'Between May & Nov-1993', 'Reported 12-Nov-1992', 'Reported 29-Oct-1989', 'Reported    06-Aug-1989', 'Reported      05-Jan-1988', 'Reported 22-Sep-1986 ', 'Mid Jul-1985 or mid Jul-1986', 'Reported      10-Nov-1983', 'Ca. 1983', 'Late Aug-1982', 'Reported 15-Jun-1981', 'Summer of 1981', 'Reported 22-Aug-1980', 'Late Jul-1980', 'Early Jul-1980', 'Summer 1980', '1980s ', '1980s ', 'Reported 02-Sep-1978', 'Reported 01-Aug-1978', 'Apr-1978`', 'Reported 02-Jun-1976', '26-Jul-1975.b', 'Reported 02-Jun-1975', 'Reported 14-Feb-1975', 'Reported 25-Apr-1974', 'Early Feb-1974', 'Summer 1974', 'Reported 18-Dec-1973', 'Reported 10-Sep-1973', 'Reported 10-Oct-1972', 'Reported 26-Jun-1972', 'Reported 26-Jun-1972', 'Reported 25-Nov-1971', 'Reported 16-Apr-1971', 'Late Apr-1971', 'Reported 09-Jan-1970', '1970s', 'Late 1970s', 'Ca. 1970', '1970s', '1970s', '1970s', '1970s', 'Reported 17-Feb-1969', 'Winter 1969', 'Reported 11-Apr-1968', 'Reported 21-Dec-1967', 'Reported 26-Oct-1967', 'Reported 14-Aug-1967', '13 or 30-May-1967', 'Early Nov-1966', 'Sep- 1966', 'Mid Aug-1966', 'Summer of 1996', 'Reported 02-Jul-1965', 'May-Jun-1965', 'Summer 1965', 'Early 1965', 'May-Jun-1965', 'May-Jun-1965', 'Ca. 1965', 'Reported 17-Feb-1964', 'Reported 06-Jan-1964', 'Reported 16-Nov-1963', 'Reported 05-Nov-1963', 'Reported 10-Jul-1963', 'Early 1963', 'Reported 31-Aug-1962', 'Late Aug-1962', 'Reported 03-Jul-1962', 'Jan-Jun-1962', 'Ca. 1962', 'Reported 06-Sep-1961', 'Reported 06-Jun-1961', 'Reported 02-Jan-1961', 'Reported 22-Aug-1960', 'Reported 20-Apr-1960', 'Early summer 1960', 'Late 1960s', '1960s', '1960-1961', 'Ca. 1960', 'Ca. 1960', 'Reported 12-Nov-1959', 'Between 10 and 12-Sep-1959', 'Reported 10-Sep-1959', 'Reported 31-Aug-1959', '21764', 'Late Jul-1959', 'Reported 26-Jun-1959', '02-Feb-1959 Reported', 'Summer of 1959', 'Jul- to Sep-1959', 'Reported 07-Nov-1958', '  Reported 31-Jul-1958', 'Reported 02-Jun-1958', 'Reported 09-Jan-1958', '1958-1959', 'Circa 1958', 'Reported 04-Nov-1957', 'Reported 07-May-1957', 'Reported 15-Dec-1956', 'Reported 15-Aug-1956', 'Reported 26-May-1956', 'Reported 10-Feb-1956', 'Reported 16-Jan-1956', 'Reported 31-Dec-1955', 'Reported 04-Aug-1955', 'Reported 13-Apr-1955', 'Ca. 1955 ', '19955', 'Reported 04-Jul-1954', 'Reported 02-Jul-1954', 'Reported 01-Jul-1954', 'Reported 26-May-1954', '1954 (same day as  1954.00.00.f)', '1954 (same day as  1954.00.00.f)', 'Reported 20-Sep-1953', 'Reported 03-Sep-1953', 'Reported 19-Mar-1953', 'Reported 07-May-1952', '1952-1954', '\\n1951.12.15.R', 'Reported 23-Nov-1951', 'Reported 03-Sep-1951', 'Reported 02-Sep-1951', 'Reported 16-Aug-1951', 'Between 01-Aug-1951 & 08-Aug-1951', 'Reported 19-Jul-1951', 'Reported 09-May-1951', 'Reported 19-Dec-1950', 'Reported 27-Jul-1950', 'Reported 18-Feb-1950', 'Reported 12-Jan-1950', '1950 - 1951', 'Summer 1950', '1950s', 'Summer 1950', 'Ca. 1950', 'Ca. 1950', 'Reported 10-Aug-1949', 'Mar-1949 or Apr-1949', '1949-1950', 'Reported 17-Sep-1848', 'Reported 06-Jun-1948', 'Reported 13-Mar-1948 \"Bitten last weekend', 'Summer 1948', 'Reported 15-Dec-1947', 'Reported 27-Jul-1947', 'Reported 24-Jul-1947', 'Reported 13-May-1947', 'Reported 06-Feb-1947', 'Reported 24-Dec-1946', 'Reported 26-Oct-1946', 'Between 18 & 22-Dec 1944', 'Reported 23-Oct-1944', 'Reported 24-May-1944', 'Some time between Apr & Nov-1944', 'Reported 01-May-1943', '02-Mar-1943 to 07-Mar-1943', 'Summer 1943', 'Fall 1943', 'Fall 1943', '11-Sep-1942 to 16-Sep-1942', 'Reported 11-Jun-1942', 'Reported 08-Jun-1942', 'Winter 1942', 'Summer 1942', 'Reported 21-Aug-1941', 'Reported 19-Dec-1940', 'Ca. 1940', 'Reported 02-Nov-1939', 'Reported 25-Oct-1939', 'Reported 27-Sep-1939', 'Woirld War II', 'Ca. 1939', 'Reported 17-Jul-1938', 'Reported 02-May-1938', 'Reported 21-Mar-1938', 'Reported 1938', 'Reported 06-Nov-1937', 'Reported 26-Sep-t937', 'Reported 16-Jul-1937', 'Reported 28-Jun-1937', 'Reported 11-Sep-1936', 'Reported 04-Aug-1936', '08-Ap-1936', 'Reported 20-Feb-1936', 'Reported 04-Sep-1935', 'Reported 05-Jun-1935', 'Reported 12-Apr-1935', 'Reported 08-Apr-1935', 'Reported 25-Mar-1935', 'Reported 21-Jan-1935', 'Reported 26-Aug-1934', 'Reported 08-Feb-1934', 'Reported 25-Oct-1933', 'Reported 27-Sep-1933', 'Reported 26-Aug-1933', 'Reported 07-Jul-1933', 'Reported 08-Jun-1933', 'Reported 15-Feb-1933', 'Reported 11-Dec-1932', 'Reported 09-Dec-1932', 'Reported 26-Sep-1932', 'Reported 14-Jul-1932', 'Reported 06-Aug-1931', 'Reported 28-Jul-1931', 'Reported 04-Jun-1931', 'Reported 27-Apr-1931', 'Reported 26-Sep-1930', 'Reported 11-May-1930', 'Reported 07-Mar-1930', 'Reported 03-Feb-1930', 'Reported 09-Dec-1929', 'Reported 03-Dec-1929', 'Reported 17-Jul-1929', 'Reported 26-Apr-1929', 'Reported 17-Apr-1929', 'Reported 1929', 'Ca. 1929', 'Reported 15-Nov-1928', 'Reported 24-Aug-1928', 'Late Jul-1928', 'Reported 24-Jun-1928', 'Reported 14-Apr-1928', 'Reported 28-Mar-1928', 'Some time between 08-Jan-1928 & 21-Jan-1928', 'Reported 09-May 1927', 'Reported 08-Jan-1927', 'Reported 02-Dec-1926', 'Reported 29-Oct-1926', 'Reported 06-Sep-1926', 'Summer of 1926', '07-Mar-1925 or 27-Mar-1925', 'Reported 27-Jan-1925', 'Reported 31-Oct-1924', 'Reported 28-Mar-1924', 'Reported 02-Jul-1923', 'Reported 23-May-1923', '1923-1924', 'Reported 26-Sep-1922', 'Reported 21-Sep-1922', 'Reported 02-Feb-1922', 'Reported 28-Jan-1922', 'Reported 15-Nov-1921', 'Reported 29-Aug-1929', 'Reported 11-Jan-1921', 'Reported 06-Jul-1920', 'Reported 24-Jan-1920', 'Reported 24-Jan-1920', '1920s', 'Reported 30-Dec-1919', 'Reported to have taken place in 1919', 'Reported 05-May-1917', 'Reported 24-Jun-1916', 'Reported 25-Apr-1916', 'Reported 09-Dec-1915', 'Reported 06-Jul-1915', 'Reported 06-Jul-1915', 'Reported 15-May-1915', 'Ca. 1915', 'Reported 04-Dec-1914', 'Reported 26-Sep-1914', 'Reported 15-Jul-1914', 'Reported 09-Jul-1914', 'Reported 14-Mar-1914', 'Reported 10-Mar-1914', 'Reported 09-Feb-1914', 'Reported 17-Jan-1914', 'Reported 30-Dec-1913', 'Reported 26-Dec-1913', 'Reported 27-Aug-1913', 'Reported 27-Aug-1913', 'Reported 10-Jul-1913', 'Reported 30-Nov-1912', 'Reported 06-Jul-1912', 'Reported 13-Jan-1912', 'Reported 31-Jul-1911', 'Reported 16-Jul-1911', 'Reported 01-May-1911', 'Reported 08-Apr-1911', 'Reported 29-Mar-1911', 'Ca. 1911', 'Reported 25-Dec-1910', 'Reported 23-Dec-1910', 'Reported 25-Jun-1910', 'Reported 08-Jun-1910', 'Reported 16-May-1910', 'Reported 26-Nov-1909', 'Reported 15-Dec-1909', '14-Nov-1909 to 19-Nov-1909', 'Reported 04-Sep-1909', 'Reported 26-Jun-1909', 'Reported 27-Apr-1909', 'Reported 09-Apr-1909', 'Reported 16-Dec-1908', 'Reported 28-Aug-1908', 'Reported 18-Jul-1908', 'Reported 08-Jul-1908', 'Reported 02-Jun-1908', 'Reported 18-Oct-1907', 'Reported 16-Oct-1907', 'Reported 16-Oct-1907', 'Reported 19-Sep-1907', 'Reported 12-Aug-1907', 'Reported 12-Aug-1907', 'Reported 08-Aug-1907', 'Reported 14-Jul-1907', 'Reported 04-Jul-1907', 'Reported 10-Oct-1906', 'Reported 10-Oct-1906', 'Reported 10-Oct-1906', 'Reported 10-Oct-1906', 'Reported 27-Sep-1906', 'Reported 27-Sep-1906', 'Reported 05-Sep-1906', 'Reported 05-Jul-1906', 'Reported 27-Apr-1906', 'Reported 10-April 1906', 'Reported 02-April 1906', 'Reported 14-Feb-1906', 'Reported 06-Sep-1905', 'Late Aug-1905', 'Reported 25-Jul-1905', 'Reported 11-Oct-1904', 'Reported 01-Jul-1904', 'Reported 16-Sep-1903', 'Reported 20-Mar-1903', 'Summer of 1903', 'Ca. 1903', 'Reported 22-Dec-1902', 'Reported 01-Nov-1902', 'Reported 29-Aug-1902', 'Reported 24-Aug-1902', '.Reported 22-Feb-1902', 'Reported 25-Jan-1902', 'Reported 19-Jan-1902', 'Mid Oct-1901', 'Reported 23-Sep-1901', 'Reported 29-Jun-1901', 'Summer 1901', 'Late Jul-1900', 'Early 1900s', 'Ca. 1900', 'Reported 12-Oct-1899', 'Reported 12-Oct-1899', 'Reported 11-Sep-1899', 'Reported 23-Aug-1899', 'Reported 08-Jul-1899', 'Reported 04-May-1899', '1899 During the Seige of Ladysmith', 'Ca. 1899', 'Reported 28-Dec-1898', 'Reported 19-Sep-1898', 'Reported 19-Sep-1898', 'Reported 07-Sep-1898', 'Reported 26-Jul-1898', 'Reported 1898', '1898 (soon after the close of the Spanish-American War)', '1898-1899', 'Summer of 1898', 'Reported 04-Dec-1897', 'Reported 05-Oct-1897', 'Reported 15-Mar-1897', 'Reported 15-Mar-1897', '23-Decp1896', 'Reported 17-Dec-1896', 'Reported 11-Sep-1896', 'Reported 21-Jun-1896', 'Reported 21-Nov-1895', 'Reported 14-Sep-1895', 'Reported 16-Jul-1895', 'Reported 13-Jun-1895', 'Reported 03-Jun-1895', 'Reported 29-Mar-1895', 'Reported 23-Feb-1895', 'Reported 06-Oct-1894', 'Reported 12-Sep-1894', 'Reported 06-Sep-1894', 'Reported 01-Sep-1894', 'Reportd 15-Jul-1894', 'Reported 15-Jun-1894', 'Reported 15-Jun-1894', 'Reported 28-Apr-1894', 'Reported 28-Apr-1894', 'Reported 20-Oct-1893', 'Reported 22-Jun-1893', 'Reported 23-May-1893', 'Reported 15-Apr-1893', 'Reported 30-Jan-1893', 'Reported 18-Jan-1893', 'Reported 09-Nov-1892', 'Reported 16-Sep-1892', 'Reported 20-Jun-1892', 'Reported 19-May-1892', 'Reported 21-Apr-1892', 'Reported 25-Mar-1892', 'Reported 31-Dec-1891', 'Reported 22-Dec-1891', 'Reported 14-Sep-1891', 'Reported 30-Aug-1891', 'Reported 08-Jan-1891', 'Reported 27-Dec-1890', 'Reported 25-Oct-1890', 'Reported 17-Aug-1890', 'Reported 14-Jun-1890', 'Reported 02-Jun-1890', 'Reported 03-Mar-1890', 'Ca. 1890', 'Reported 29-Nov-1889', 'Reported 03-Oct-1889', 'Reported 31-Jan-1889', 'Reported 25-Dec-1888', 'Reported 23-Oct-1888', 'Reported 01-Aug-1888', 'Reported 20-Jul-1888', 'Reported 13-Jul-1888', 'Reported 18-Jun-1888', 'Reported 22-Dec-1887', 'Reported 08-Feb-1887', 'Mid-Aug-1886', 'Mid-Aug-1886', 'Reported 06-Mar-1886', 'Reported 26-Nov-1885', 'Reported 16-Apr-1885', 'Reported 08-Dec-1884', 'Reported 28-Aug-1884', 'Reported 28-Apr-1884', 'Reported 18-Dec-1883', 'Reported 20-Oct-1883', 'Reported 19-Oct-1883', 'Reported 14-Sep-1883 (probably happened Ca. 1843/1844)', 'Reported 26-Feb-1883', 'Reported 25-Feb-1883', 'Summer of 1883', 'Reported 12-May-1882', 'Reported  07-Feb-1882', 'Reported 23-Jan-1882', 'Reprted 05-Jan-1882', 'Reported 16-Aug-1881', 'Ca. 1881', 'Reported 07-May-1880', '1880?', 'Ca. 1880', 'Ca. 1880', 'Reported 30-Aug-1879', 'Reported 24-Oct-1878', 'Reported 14-Sep-1878', 'Reported 30-March-1878', 'Reported 15-Dec-1877', 'Reported 28-Aug-1877', 'Reported 17-Feb-1877', 'Reported 24-Jan-1877', 'Before 1878', 'Reported 13-Oct-1876', 'Reported 07-Sep-1876', 'Reported 04-Jun-1876', 'Reported 27-Nov-1875', 'Reported 20-Jan-1875', 'Ca. mid-1870s', 'Reported 15-Jul-1874', 'Reported 18-Jun- 1874', 'Reported 15-Jun-1874', 'Reported 15-Jun-1874', 'Reported 20-Apr-1874', '09-Jan- 1874', 'Reported 09-Jun-1873', 'Reported 09-Jan-1873', 'Nov- or Dec-1873', 'Reported 30-Nov-1872', 'Reported 07-Aug-1872', 'Reported 03-Apr-1872', 'Circa 1872', 'Reported 11-Dec-1871', 'Reported 29-Aug-1871', 'Reported 22-May-1871', 'Reported 13-May 1871', 'Before 1871', 'Before 1871', 'Reported 26-May-1870', 'Early 1870s', 'Reported 15-Apr-1869', 'Reported 04-Jan-1868', 'Reported 24-Oct-1888, but took place around 1868', '1868 (?)', 'Reported 22-Aug-1867', 'Reported 26-Jan-1867', 'Reported 09-Jul-1866', 'Reported 24-Apr-1866', 'Reported 14-Jul-1865', 'Reported 01-Mar-1865', 'Reported 18-Sep-1864', 'Reported 27-Jan-1864', 'Reported 16-Jan-1864', 'Reported 13-Sep-1863', 'Reported 09-Jul-1863', 'Reported 1863', 'Reported 19-Dec-1862', 'Reported 15-Aug-1862', 'Reported 02-Aug-1862', 'Circa 1862', 'Reported 25-Sep-1861', 'Reported 12-Feb-1861', 'Reported 15-Jan-1861', 'Reported 14-Jan 1858', 'Reported 09-Jan-1858', 'Reported 25-Nov-1856', 'Reported 20-Nov-1856', 'Reported 21-Jun-1856', 'Reported 09-Apr-1855', 'Reported 12-Feb-1855', 'Circa 1855', 'Reported 13-Jul-1853', 'Sep or Oct-1853', '1853 or 1854', 'Reported 23-Oct-1852', 'Reported 09-Oct-1852', '\"Anniversary Day\" 22-Jan-1850 or 1852', 'Reported 16-Jun-1851', 'Reported 17-Jul-1848', 'Reported 03-Jul-1847', 'Reported in 1847', 'Ca. 1847', 'Reported 30-Sep-1846', 'Reported 20-Aug-1846', 'Reported 16-Sep-1845', 'Reported 10-Sep-1845', 'Reported 31-Jul-1845', 'Reported 1845', '1844.07.16.R', 'Reported 18-Sep-1840', 'Reported 22-Jul-1840', 'Reported 09-Apr-1840', '1839/1840', 'Ca. 1839', 'Ca. 1837', 'Reported 19-Aug-1836', '1836.07.26.R', '1836.00.', 'Reported 21-Feb-1835', 'Reported 15-Jul-1834', 'Reported 23-Jan-1832', 'Reported 22- Jan-1831', 'Reported 02-Jul-1830', 'Reported 22-Apr-1830', 'Reported 03-Jul-1829', 'Ca. Nov-1826', 'Reported 15-Aug-1826', 'Reported 20-May-1826', '1820s', 'Ca . 1825', 'Reported 30-Dec-1823', 'Reported 08-Jul-1819', 'Reported 22-May-1818', 'Reported 03-Sept-1816', 'Reported 25-Dec-1808', 'Reported 01-May-1808', 'Reported 26-Feb-1804', 'Reported Apr-13-1802', 'Reported 18-Dec-1801', 'Reported May-28-1797', 'Reported 10-Aug-1786', 'Reported 26-Sep-1785', 'Reported 1776', 'Reported 12-Jul-1771', 'Reported 27-Oct-1753', 'Reported 06-Apr-1738', '1700s', '1700s', '1700s', 'Late 1600s Reported 1728', 'Reported 1638', 'Reported 1637', 'Reported 1617', 'Letter dated 10-Jan-1580', 'Ca. 1554', 'Ca. 1543', 'Circa 500 A.D.', '77  A.D.', 'Ca. 5 A.D.', 'Ca. 214 B.C.', 'Ca. 336.B.C..', '493 B.C.', 'Ca. 725 B.C.', 'Before 1939', '1990 or 1991', 'Before 2016', 'Before Oct-2009', 'Before 1934', 'Before 1934', '2009?', 'Before 1930', '1880-1899', 'Before 1909', 'Before 2012', 'Before 1916', 'Between   1951-1963', 'Before 1908', 'Before 1900', 'Before 1876', 'Before 2012', 'Before 2011', 'Before 2011', 'Before 2009', 'Beforer 1994', 'Before 1963', '1896-1913', 'Before 1936', 'Before 08-Jun-1912', 'Before 2012', 'Before 1911', 'Before 1901', 'No date, late 1960s', 'Before 2006', 'Before 2003', 'Before 2004', 'Before 1962', '1950s', 'No date, Before 1963', '2003?', 'No date', 'No date', 'Before Feb-1998', 'No date, Before May-1996', 'No date, Before Mar-1995', 'Before 1996', 'No date, Before Aug-1989', 'No date, Before Aug-1987', 'No date, Before 1987', 'No date, Before  1975', 'No date, Before 1975', 'No date, Before 1969', 'No date, Before 3-Jan-1967', 'No date, Before 1963', 'No date, Before 8-May-1965', 'No date, Before 1963', 'No date, Before 1902', 'No date, Before 1902', 'No date, Before 1963', 'No date, After August 1926 and before 1936', 'No date, Before 1963', 'Before 1962', 'Before 1962', 'Before 1961', '1960s', '1960s', '1960s', 'Before 1960', 'Before  19-Jun-1959', 'Before  24 Apr-1959', 'Before  1958', 'Before  1958', 'Before 1958', 'Before 1958', 'Before 1958', 'Before 1958', 'Before 1957', 'Before 1957', 'Before 1956', 'Before 1956', 'Before Mar-1956', 'Before 1952', '1941-1945', '\"During the war\" 1943-1945', '\"Before the war\"', 'Said to be 1941-1945, more likely 1945', '1941-1945', '1941-1945', '1941-1942', '1940 - 1950', '1940 - 1950', '1940 - 1950', '1940-1946', 'Before 1905', 'World War II', 'World War II', 'Before 1905', 'A few years before 1938', 'No date', 'Early 1930s', 'Before 1927', 'Between 1918 & 1939', 'No date', 'No date', 'No date', '1920 -1923', 'Before 1921', 'Before 1911', 'Before 1921', 'Before 1921', 'Before 1917', 'Before 17-Jul-1916', 'No date (3 days after preceding incident) & prior to 19-Jul-1913', 'Before 19-Jul-1913', 'Before 1911', 'Circa 1862', 'Before 1906', 'Before 1906', 'Before 1906', 'Before 1906', 'Before 1903', 'Before 1903', '1900-1905', '1883-1889', '1845-1853']\n"
     ]
    }
   ],
   "source": [
    "# attacks.sample()\n",
    "# seems like case number columns have dates, might be useful\n",
    "# found an interesting function to import\n",
    "from dateutil.parser import parse\n",
    "\n",
    "# Define a function to check if a date is valid\n",
    "def is_valid_date(date_str):\n",
    "    if isinstance(date_str, str):\n",
    "        try:\n",
    "            parse(date_str)\n",
    "            return True\n",
    "        except ValueError:\n",
    "            return False\n",
    "    return False  # Return False for non-string values\n",
    "\n",
    "# List of date columns (you can add more if needed)\n",
    "date_columns = ['Date']\n",
    "\n",
    "# Initialize counters for valid and invalid dates\n",
    "valid_date_count = 0\n",
    "invalid_dates = []\n",
    "\n",
    "# iterate through date columns and check for valid dates up to row 6301\n",
    "for column in date_columns:\n",
    "    is_valid = attacks.iloc[:6302][column].apply(is_valid_date)\n",
    "    valid_date_count += is_valid.sum()\n",
    "    \n",
    "    # collect invalid dates\n",
    "    invalid_dates.extend(attacks.iloc[:6302][~is_valid][column])\n",
    "\n",
    "    print(f'Number of valid dates in column {column}: {valid_date_count}')\n",
    "    print(f'Number of invalid dates in column {column}: {len(invalid_dates)}')\n",
    "\n",
    "print('Invalid dates:')\n",
    "print(invalid_dates)\n",
    "\n"
   ]
  },
  {
   "cell_type": "markdown",
   "metadata": {},
   "source": [
    "Invalid dates:\n",
    "['Reported 30-Apr-2018', 'Reported 10-Apr-2018', 'Reported 25-Nov-2017', 'Reported 13-Nov-2017', 'Reported 31-Oct-2017', 'Reported 06-Sep-2017', 'Reported 26-Jul-2017', 'Reported 07-Jul-2017', 'Reported 14-Jun-2017', 'Reported 07-Jun-2017', 'Reported 06-May-2017', 'Reported 09-Mar-2017', 'Reported 08-Jan-2017', 'Reported  14-Jul-2016', 'Reported 08-Jul-2016', 'Reported 03-Mar-2016', 'Reported 10-Feb-2016', 'Reported 11-Jan-2016', 'Reported 25-Jun-2015', 'Reported 23-Dec-2014', 'Reported 03-Dec-2014', 'Reported 17-Nov-2014', 'Reported 12-Sep-2014', 'Reported 25-Aug-2014', 'Reported 27-Jun-2014', 'Reported 17-Jun-2014', 'Reported 10-May-2014', 'Reported 12-Apr-2014', 'Reported 17-Feb-2014', 'Reported 08-Aug-2013', 'Reported 17-Jul-2013', 'Reported 14-Jun-2013', 'Reported 02-Apr-2013', 'Reported 21-Mar-2013', 'Reported 21-Jan-2013', 'Reported 11-Oct-2012', 'Reported 28-Jun-2012', 'Reported 22-Jan-2012', 'Reported 26-Dec-2011', 'Reported 20-Nov-2011', 'Reported 28-Oct-2011', '16-Aug--2011', '11-Aug--2011', 'Reported 14-Jun-2011', 'Reported 06-Jun-2011', 'Reported 07-May-2011', 'Reported 29-Mar-2011', 'Reported 10-Mar-2010', 'Reported 28-Feb-2011', 'Reported 04-Feb-2011', 'Reported 12-Jan 2011', 'Reported 03-Dec-2010', 'Reported 27-Nov-2010', 'Reported 12-Nov-2010', 'Reported 28-Oct-2010', 'Reported 06-Sep-2010', '190Feb-2010', 'Reported 06-Feb-2010', 'Reported 29-Oct-2009', 'Reported 14-Oct-2009', 'Reported 24-Jul-2009', 'Reported 14-Jun-2009', 'Reported 25-Apr-2009', 'Reported 17-Mar-2009', 'Reported 16-Mar-2009', 'Reported 27-Jan-2009', 'Reported 26-Jan-2009', 'Reported 13-Jan-2009', 'Reported 30-Jul-2008', 'Late Jul-2008', 'Reported 26-Jun-2008', 'Reported 02-Jun-2008', 'Reported 19-Apr-2008', 'Reported 09-Apr-2008', 'Reported 08-Apr-2008', 'Reported 21-Feb-2008', 'Reported 19-Jan-2008', 'Fall 2008', 'Summer-2008', '19-Jul-2007.b', '19-Jul-2007.a', 'Reported 17-May-2007', 'Reported 09-May-2007', 'Reported      13-Apr-2007', 'Reported 14-Mar-2007', 'Reported 05-Mar-2007', 'Reported 18-Sep-2006', 'Early Aug-2006', 'Reported 17-Jul-2006', 'Reported      23-Apr-2006', 'Reported  28-Mar-2006', 'Reported 28-Jan-2006', 'Reported 06-Dec-2005', 'Reported 29-Nov-2005', 'Reported  16-Nov-2005', 'Reported      27-Sep-2005', 'Reported      15-Jul-2005', 'Reported    27-Mar-2005', ' 19-Jul-2004 Reported to have happened  \"on the weekend\"', 'Reported 15-Jan-2004 ', 'Reported 26-Jul-2003', 'Late Jul-2003', 'Reported 06-Aug-2002', 'Reported 13-Jun-2002', 'Reported 13-Jun-2002', 'Reported 21-May-2002', '02-Ap-2001', 'Reported  24-Jan-2001', 'Early Sep-2000', 'Reported 27-Aug-2000', 'Early Jun-2000', 'Reported      03-Mar-2000', 'Reported 28-Jan-2000', 'Reported 16-Sep-1999', 'Reported 18-Mar-1999 ', 'Reported 03-Jan-1999', 'Reported 20-Dec-1998', 'Reported 16-Sep-1998', 'Reported      23-Aug-1998', 'Reported 28-Jan-1998', 'Reported 05-Nov-1997', 'Reported 11-Oct-1997', 'Reported      19-Feb-1996', 'Reported 28-Oct-1995', 'Early Jul-1995', 'Reported      10-Dec-1994 ', 'Reported 11-Sep-1994', 'Reported 16-Apr-1994', 'Reported 12-Jan-1994', 'Last incident of 1994 in Hong Kong', 'Reported      19-Aug-1993', 'Late May 1993', 'Fall 1993', 'Between May & Nov-1993', 'Reported 12-Nov-1992', 'Reported 29-Oct-1989', 'Reported    06-Aug-1989', 'Reported      05-Jan-1988', 'Reported 22-Sep-1986 ', 'Mid Jul-1985 or mid Jul-1986', 'Reported      10-Nov-1983', 'Ca. 1983', 'Late Aug-1982', 'Reported 15-Jun-1981', 'Summer of 1981', 'Reported 22-Aug-1980', 'Late Jul-1980', 'Early Jul-1980', 'Summer 1980', '1980s ', '1980s ', 'Reported 02-Sep-1978', 'Reported 01-Aug-1978', 'Apr-1978`', 'Reported 02-Jun-1976', '26-Jul-1975.b', 'Reported 02-Jun-1975', 'Reported 14-Feb-1975', 'Reported 25-Apr-1974', 'Early Feb-1974', 'Summer 1974', 'Reported 18-Dec-1973', 'Reported 10-Sep-1973', 'Reported 10-Oct-1972', 'Reported 26-Jun-1972', 'Reported 26-Jun-1972', 'Reported 25-Nov-1971', 'Reported 16-Apr-1971', 'Late Apr-1971', 'Reported 09-Jan-1970', '1970s', 'Late 1970s', 'Ca. 1970', '1970s', '1970s', '1970s', '1970s', 'Reported 17-Feb-1969', 'Winter 1969', 'Reported 11-Apr-1968', 'Reported 21-Dec-1967', 'Reported 26-Oct-1967', 'Reported 14-Aug-1967', '13 or 30-May-1967', 'Early Nov-1966', 'Sep- 1966', 'Mid Aug-1966', 'Summer of 1996', 'Reported 02-Jul-1965', 'May-Jun-1965', 'Summer 1965', 'Early 1965', 'May-Jun-1965', 'May-Jun-1965', 'Ca. 1965', 'Reported 17-Feb-1964', 'Reported 06-Jan-1964', 'Reported 16-Nov-1963', 'Reported 05-Nov-1963', 'Reported 10-Jul-1963', 'Early 1963', 'Reported 31-Aug-1962', 'Late Aug-1962', 'Reported 03-Jul-1962', 'Jan-Jun-1962', 'Ca. 1962', 'Reported 06-Sep-1961', 'Reported 06-Jun-1961', 'Reported 02-Jan-1961', 'Reported 22-Aug-1960', 'Reported 20-Apr-1960', 'Early summer 1960', 'Late 1960s', '1960s', '1960-1961', 'Ca. 1960', 'Ca. 1960', 'Reported 12-Nov-1959', 'Between 10 and 12-Sep-1959', 'Reported 10-Sep-1959', 'Reported 31-Aug-1959', '21764', 'Late Jul-1959', 'Reported 26-Jun-1959', '02-Feb-1959 Reported', 'Summer of 1959', 'Jul- to Sep-1959', 'Reported 07-Nov-1958', '  Reported 31-Jul-1958', 'Reported 02-Jun-1958', 'Reported 09-Jan-1958', '1958-1959', 'Circa 1958', 'Reported 04-Nov-1957', 'Reported 07-May-1957', 'Reported 15-Dec-1956', 'Reported 15-Aug-1956', 'Reported 26-May-1956', 'Reported 10-Feb-1956', 'Reported 16-Jan-1956', 'Reported 31-Dec-1955', 'Reported 04-Aug-1955', 'Reported 13-Apr-1955', 'Ca. 1955 ', '19955', 'Reported 04-Jul-1954', 'Reported 02-Jul-1954', 'Reported 01-Jul-1954', 'Reported 26-May-1954', '1954 (same day as  1954.00.00.f)', '1954 (same day as  1954.00.00.f)', 'Reported 20-Sep-1953', 'Reported 03-Sep-1953', 'Reported 19-Mar-1953', 'Reported 07-May-1952', '1952-1954', '\\n1951.12.15.R', 'Reported 23-Nov-1951', 'Reported 03-Sep-1951', 'Reported 02-Sep-1951', 'Reported 16-Aug-1951', 'Between 01-Aug-1951 & 08-Aug-1951', 'Reported 19-Jul-1951', 'Reported 09-May-1951', 'Reported 19-Dec-1950', 'Reported 27-Jul-1950', 'Reported 18-Feb-1950', 'Reported 12-Jan-1950', '1950 - 1951', 'Summer 1950', '1950s', 'Summer 1950', 'Ca. 1950', 'Ca. 1950', 'Reported 10-Aug-1949', 'Mar-1949 or Apr-1949', '1949-1950', 'Reported 17-Sep-1848', 'Reported 06-Jun-1948', 'Reported 13-Mar-1948 \"Bitten last weekend', 'Summer 1948', 'Reported 15-Dec-1947', 'Reported 27-Jul-1947', 'Reported 24-Jul-1947', 'Reported 13-May-1947', 'Reported 06-Feb-1947', 'Reported 24-Dec-1946', 'Reported 26-Oct-1946', 'Between 18 & 22-Dec 1944', 'Reported 23-Oct-1944', 'Reported 24-May-1944', 'Some time between Apr & Nov-1944', 'Reported 01-May-1943', '02-Mar-1943 to 07-Mar-1943', 'Summer 1943', 'Fall 1943', 'Fall 1943', '11-Sep-1942 to 16-Sep-1942', 'Reported 11-Jun-1942', 'Reported 08-Jun-1942', 'Winter 1942', 'Summer 1942', 'Reported 21-Aug-1941', 'Reported 19-Dec-1940', 'Ca. 1940', 'Reported 02-Nov-1939', 'Reported 25-Oct-1939', 'Reported 27-Sep-1939', 'Woirld War II', 'Ca. 1939', 'Reported 17-Jul-1938', 'Reported 02-May-1938', 'Reported 21-Mar-1938', 'Reported 1938', 'Reported 06-Nov-1937', 'Reported 26-Sep-t937', 'Reported 16-Jul-1937', 'Reported 28-Jun-1937', 'Reported 11-Sep-1936', 'Reported 04-Aug-1936', '08-Ap-1936', 'Reported 20-Feb-1936', 'Reported 04-Sep-1935', 'Reported 05-Jun-1935', 'Reported 12-Apr-1935', 'Reported 08-Apr-1935', 'Reported 25-Mar-1935', 'Reported 21-Jan-1935', 'Reported 26-Aug-1934', 'Reported 08-Feb-1934', 'Reported 25-Oct-1933', 'Reported 27-Sep-1933', 'Reported 26-Aug-1933', 'Reported 07-Jul-1933', 'Reported 08-Jun-1933', 'Reported 15-Feb-1933', 'Reported 11-Dec-1932', 'Reported 09-Dec-1932', 'Reported 26-Sep-1932', 'Reported 14-Jul-1932', 'Reported 06-Aug-1931', 'Reported 28-Jul-1931', 'Reported 04-Jun-1931', 'Reported 27-Apr-1931', 'Reported 26-Sep-1930', 'Reported 11-May-1930', 'Reported 07-Mar-1930', 'Reported 03-Feb-1930', 'Reported 09-Dec-1929', 'Reported 03-Dec-1929', 'Reported 17-Jul-1929', 'Reported 26-Apr-1929', 'Reported 17-Apr-1929', 'Reported 1929', 'Ca. 1929', 'Reported 15-Nov-1928', 'Reported 24-Aug-1928', 'Late Jul-1928', 'Reported 24-Jun-1928', 'Reported 14-Apr-1928', 'Reported 28-Mar-1928', 'Some time between 08-Jan-1928 & 21-Jan-1928', 'Reported 09-May 1927', 'Reported 08-Jan-1927', 'Reported 02-Dec-1926', 'Reported 29-Oct-1926', 'Reported 06-Sep-1926', 'Summer of 1926', '07-Mar-1925 or 27-Mar-1925', 'Reported 27-Jan-1925', 'Reported 31-Oct-1924', 'Reported 28-Mar-1924', 'Reported 02-Jul-1923', 'Reported 23-May-1923', '1923-1924', 'Reported 26-Sep-1922', 'Reported 21-Sep-1922', 'Reported 02-Feb-1922', 'Reported 28-Jan-1922', 'Reported 15-Nov-1921', 'Reported 29-Aug-1929', 'Reported 11-Jan-1921', 'Reported 06-Jul-1920', 'Reported 24-Jan-1920', 'Reported 24-Jan-1920', '1920s', 'Reported 30-Dec-1919', 'Reported to have taken place in 1919', 'Reported 05-May-1917', 'Reported 24-Jun-1916', 'Reported 25-Apr-1916', 'Reported 09-Dec-1915', 'Reported 06-Jul-1915', 'Reported 06-Jul-1915', 'Reported 15-May-1915', 'Ca. 1915', 'Reported 04-Dec-1914', 'Reported 26-Sep-1914', 'Reported 15-Jul-1914', 'Reported 09-Jul-1914', 'Reported 14-Mar-1914', 'Reported 10-Mar-1914', 'Reported 09-Feb-1914', 'Reported 17-Jan-1914', 'Reported 30-Dec-1913', 'Reported 26-Dec-1913', 'Reported 27-Aug-1913', 'Reported 27-Aug-1913', 'Reported 10-Jul-1913', 'Reported 30-Nov-1912', 'Reported 06-Jul-1912', 'Reported 13-Jan-1912', 'Reported 31-Jul-1911', 'Reported 16-Jul-1911', 'Reported 01-May-1911', 'Reported 08-Apr-1911', 'Reported 29-Mar-1911', 'Ca. 1911', 'Reported 25-Dec-1910', 'Reported 23-Dec-1910', 'Reported 25-Jun-1910', 'Reported 08-Jun-1910', 'Reported 16-May-1910', 'Reported 26-Nov-1909', 'Reported 15-Dec-1909', '14-Nov-1909 to 19-Nov-1909', 'Reported 04-Sep-1909', 'Reported 26-Jun-1909', 'Reported 27-Apr-1909', 'Reported 09-Apr-1909', 'Reported 16-Dec-1908', 'Reported 28-Aug-1908', 'Reported 18-Jul-1908', 'Reported 08-Jul-1908', 'Reported 02-Jun-1908', 'Reported 18-Oct-1907', 'Reported 16-Oct-1907', 'Reported 16-Oct-1907', 'Reported 19-Sep-1907', 'Reported 12-Aug-1907', 'Reported 12-Aug-1907', 'Reported 08-Aug-1907', 'Reported 14-Jul-1907', 'Reported 04-Jul-1907', 'Reported 10-Oct-1906', 'Reported 10-Oct-1906', 'Reported 10-Oct-1906', 'Reported 10-Oct-1906', 'Reported 27-Sep-1906', 'Reported 27-Sep-1906', 'Reported 05-Sep-1906', 'Reported 05-Jul-1906', 'Reported 27-Apr-1906', 'Reported 10-April 1906', 'Reported 02-April 1906', 'Reported 14-Feb-1906', 'Reported 06-Sep-1905', 'Late Aug-1905', 'Reported 25-Jul-1905', 'Reported 11-Oct-1904', 'Reported 01-Jul-1904', 'Reported 16-Sep-1903', 'Reported 20-Mar-1903', 'Summer of 1903', 'Ca. 1903', 'Reported 22-Dec-1902', 'Reported 01-Nov-1902', 'Reported 29-Aug-1902', 'Reported 24-Aug-1902', '.Reported 22-Feb-1902', 'Reported 25-Jan-1902', 'Reported 19-Jan-1902', 'Mid Oct-1901', 'Reported 23-Sep-1901', 'Reported 29-Jun-1901', 'Summer 1901', 'Late Jul-1900', 'Early 1900s', 'Ca. 1900', 'Reported 12-Oct-1899', 'Reported 12-Oct-1899', 'Reported 11-Sep-1899', 'Reported 23-Aug-1899', 'Reported 08-Jul-1899', 'Reported 04-May-1899', '1899 During the Seige of Ladysmith', 'Ca. 1899', 'Reported 28-Dec-1898', 'Reported 19-Sep-1898', 'Reported 19-Sep-1898', 'Reported 07-Sep-1898', 'Reported 26-Jul-1898', 'Reported 1898', '1898 (soon after the close of the Spanish-American War)', '1898-1899', 'Summer of 1898', 'Reported 04-Dec-1897', 'Reported 05-Oct-1897', 'Reported 15-Mar-1897', 'Reported 15-Mar-1897', '23-Decp1896', 'Reported 17-Dec-1896', 'Reported 11-Sep-1896', 'Reported 21-Jun-1896', 'Reported 21-Nov-1895', 'Reported 14-Sep-1895', 'Reported 16-Jul-1895', 'Reported 13-Jun-1895', 'Reported 03-Jun-1895', 'Reported 29-Mar-1895', 'Reported 23-Feb-1895', 'Reported 06-Oct-1894', 'Reported 12-Sep-1894', 'Reported 06-Sep-1894', 'Reported 01-Sep-1894', 'Reportd 15-Jul-1894', 'Reported 15-Jun-1894', 'Reported 15-Jun-1894', 'Reported 28-Apr-1894', 'Reported 28-Apr-1894', 'Reported 20-Oct-1893', 'Reported 22-Jun-1893', 'Reported 23-May-1893', 'Reported 15-Apr-1893', 'Reported 30-Jan-1893', 'Reported 18-Jan-1893', 'Reported 09-Nov-1892', 'Reported 16-Sep-1892', 'Reported 20-Jun-1892', 'Reported 19-May-1892', 'Reported 21-Apr-1892', 'Reported 25-Mar-1892', 'Reported 31-Dec-1891', 'Reported 22-Dec-1891', 'Reported 14-Sep-1891', 'Reported 30-Aug-1891', 'Reported 08-Jan-1891', 'Reported 27-Dec-1890', 'Reported 25-Oct-1890', 'Reported 17-Aug-1890', 'Reported 14-Jun-1890', 'Reported 02-Jun-1890', 'Reported 03-Mar-1890', 'Ca. 1890', 'Reported 29-Nov-1889', 'Reported 03-Oct-1889', 'Reported 31-Jan-1889', 'Reported 25-Dec-1888', 'Reported 23-Oct-1888', 'Reported 01-Aug-1888', 'Reported 20-Jul-1888', 'Reported 13-Jul-1888', 'Reported 18-Jun-1888', 'Reported 22-Dec-1887', 'Reported 08-Feb-1887', 'Mid-Aug-1886', 'Mid-Aug-1886', 'Reported 06-Mar-1886', 'Reported 26-Nov-1885', 'Reported 16-Apr-1885', 'Reported 08-Dec-1884', 'Reported 28-Aug-1884', 'Reported 28-Apr-1884', 'Reported 18-Dec-1883', 'Reported 20-Oct-1883', 'Reported 19-Oct-1883', 'Reported 14-Sep-1883 (probably happened Ca. 1843/1844)', 'Reported 26-Feb-1883', 'Reported 25-Feb-1883', 'Summer of 1883', 'Reported 12-May-1882', 'Reported  07-Feb-1882', 'Reported 23-Jan-1882', 'Reprted 05-Jan-1882', 'Reported 16-Aug-1881', 'Ca. 1881', 'Reported 07-May-1880', '1880?', 'Ca. 1880', 'Ca. 1880', 'Reported 30-Aug-1879', 'Reported 24-Oct-1878', 'Reported 14-Sep-1878', 'Reported 30-March-1878', 'Reported 15-Dec-1877', 'Reported 28-Aug-1877', 'Reported 17-Feb-1877', 'Reported 24-Jan-1877', 'Before 1878', 'Reported 13-Oct-1876', 'Reported 07-Sep-1876', 'Reported 04-Jun-1876', 'Reported 27-Nov-1875', 'Reported 20-Jan-1875', 'Ca. mid-1870s', 'Reported 15-Jul-1874', 'Reported 18-Jun- 1874', 'Reported 15-Jun-1874', 'Reported 15-Jun-1874', 'Reported 20-Apr-1874', '09-Jan- 1874', 'Reported 09-Jun-1873', 'Reported 09-Jan-1873', 'Nov- or Dec-1873', 'Reported 30-Nov-1872', 'Reported 07-Aug-1872', 'Reported 03-Apr-1872', 'Circa 1872', 'Reported 11-Dec-1871', 'Reported 29-Aug-1871', 'Reported 22-May-1871', 'Reported 13-May 1871', 'Before 1871', 'Before 1871', 'Reported 26-May-1870', 'Early 1870s', 'Reported 15-Apr-1869', 'Reported 04-Jan-1868', 'Reported 24-Oct-1888, but took place around 1868', '1868 (?)', 'Reported 22-Aug-1867', 'Reported 26-Jan-1867', 'Reported 09-Jul-1866', 'Reported 24-Apr-1866', 'Reported 14-Jul-1865', 'Reported 01-Mar-1865', 'Reported 18-Sep-1864', 'Reported 27-Jan-1864', 'Reported 16-Jan-1864', 'Reported 13-Sep-1863', 'Reported 09-Jul-1863', 'Reported 1863', 'Reported 19-Dec-1862', 'Reported 15-Aug-1862', 'Reported 02-Aug-1862', 'Circa 1862', 'Reported 25-Sep-1861', 'Reported 12-Feb-1861', 'Reported 15-Jan-1861', 'Reported 14-Jan 1858', 'Reported 09-Jan-1858', 'Reported 25-Nov-1856', 'Reported 20-Nov-1856', 'Reported 21-Jun-1856', 'Reported 09-Apr-1855', 'Reported 12-Feb-1855', 'Circa 1855', 'Reported 13-Jul-1853', 'Sep or Oct-1853', '1853 or 1854', 'Reported 23-Oct-1852', 'Reported 09-Oct-1852', '\"Anniversary Day\" 22-Jan-1850 or 1852', 'Reported 16-Jun-1851', 'Reported 17-Jul-1848', 'Reported 03-Jul-1847', 'Reported in 1847', 'Ca. 1847', 'Reported 30-Sep-1846', 'Reported 20-Aug-1846', 'Reported 16-Sep-1845', 'Reported 10-Sep-1845', 'Reported 31-Jul-1845', 'Reported 1845', '1844.07.16.R', 'Reported 18-Sep-1840', 'Reported 22-Jul-1840', 'Reported 09-Apr-1840', '1839/1840', 'Ca. 1839', 'Ca. 1837', 'Reported 19-Aug-1836', '1836.07.26.R', '1836.00.', 'Reported 21-Feb-1835', 'Reported 15-Jul-1834', 'Reported 23-Jan-1832', 'Reported 22- Jan-1831', 'Reported 02-Jul-1830', 'Reported 22-Apr-1830', 'Reported 03-Jul-1829', 'Ca. Nov-1826', 'Reported 15-Aug-1826', 'Reported 20-May-1826', '1820s', 'Ca . 1825', 'Reported 30-Dec-1823', 'Reported 08-Jul-1819', 'Reported 22-May-1818', 'Reported 03-Sept-1816', 'Reported 25-Dec-1808', 'Reported 01-May-1808', 'Reported 26-Feb-1804', 'Reported Apr-13-1802', 'Reported 18-Dec-1801', 'Reported May-28-1797', 'Reported 10-Aug-1786', 'Reported 26-Sep-1785', 'Reported 1776', 'Reported 12-Jul-1771', 'Reported 27-Oct-1753', 'Reported 06-Apr-1738', '1700s', '1700s', '1700s', 'Late 1600s Reported 1728', 'Reported 1638', 'Reported 1637', 'Reported 1617', 'Letter dated 10-Jan-1580', 'Ca. 1554', 'Ca. 1543', 'Circa 500 A.D.', '77  A.D.', 'Ca. 5 A.D.', 'Ca. 214 B.C.', 'Ca. 336.B.C..', '493 B.C.', 'Ca. 725 B.C.', 'Before 1939', '1990 or 1991', 'Before 2016', 'Before Oct-2009', 'Before 1934', 'Before 1934', '2009?', 'Before 1930', '1880-1899', 'Before 1909', 'Before 2012', 'Before 1916', 'Between   1951-1963', 'Before 1908', 'Before 1900', 'Before 1876', 'Before 2012', 'Before 2011', 'Before 2011', 'Before 2009', 'Beforer 1994', 'Before 1963', '1896-1913', 'Before 1936', 'Before 08-Jun-1912', 'Before 2012', 'Before 1911', 'Before 1901', 'No date, late 1960s', 'Before 2006', 'Before 2003', 'Before 2004', 'Before 1962', '1950s', 'No date, Before 1963', '2003?', 'No date', 'No date', 'Before Feb-1998', 'No date, Before May-1996', 'No date, Before Mar-1995', 'Before 1996', 'No date, Before Aug-1989', 'No date, Before Aug-1987', 'No date, Before 1987', 'No date, Before  1975', 'No date, Before 1975', 'No date, Before 1969', 'No date, Before 3-Jan-1967', 'No date, Before 1963', 'No date, Before 8-May-1965', 'No date, Before 1963', 'No date, Before 1902', 'No date, Before 1902', 'No date, Before 1963', 'No date, After August 1926 and before 1936', 'No date, Before 1963', 'Before 1962', 'Before 1962', 'Before 1961', '1960s', '1960s', '1960s', 'Before 1960', 'Before  19-Jun-1959', 'Before  24 Apr-1959', 'Before  1958', 'Before  1958', 'Before 1958', 'Before 1958', 'Before 1958', 'Before 1958', 'Before 1957', 'Before 1957', 'Before 1956', 'Before 1956', 'Before Mar-1956', 'Before 1952', '1941-1945', '\"During the war\" 1943-1945', '\"Before the war\"', 'Said to be 1941-1945, more likely 1945', '1941-1945', '1941-1945', '1941-1942', '1940 - 1950', '1940 - 1950', '1940 - 1950', '1940-1946', 'Before 1905', 'World War II', 'World War II', 'Before 1905', 'A few years before 1938', 'No date', 'Early 1930s', 'Before 1927', 'Between 1918 & 1939', 'No date', 'No date', 'No date', '1920 -1923', 'Before 1921', 'Before 1911', 'Before 1921', 'Before 1921', 'Before 1917', 'Before 17-Jul-1916', 'No date (3 days after preceding incident) & prior to 19-Jul-1913', 'Before 19-Jul-1913', 'Before 1911', 'Circa 1862', 'Before 1906', 'Before 1906', 'Before 1906', 'Before 1906', 'Before 1903', 'Before 1903', '1900-1905', '1883-1889', '1845-1853']\n"
   ]
  },
  {
   "cell_type": "code",
   "execution_count": 136,
   "metadata": {},
   "outputs": [
    {
     "name": "stdout",
     "output_type": "stream",
     "text": [
      "Valid dates are from row 0 to row 6171.\n"
     ]
    }
   ],
   "source": [
    "# Define a function to check if a date is valid\n",
    "def is_valid_date(date_str):\n",
    "    if isinstance(date_str, str):\n",
    "        try:\n",
    "            parse(date_str)\n",
    "            return True\n",
    "        except ValueError:\n",
    "            return False\n",
    "    return False  # Return False for non-string values\n",
    "\n",
    "# List of date columns (you can add more if needed)\n",
    "date_columns = ['Date']\n",
    "\n",
    "# Initialize a flag to track the valid date range\n",
    "valid_range_start = None\n",
    "valid_range_end = None\n",
    "\n",
    "# Iterate through date columns and check for valid dates up to row 6301\n",
    "for column in date_columns:\n",
    "    for index, date_value in enumerate(attacks.iloc[:6301][column]):\n",
    "        if is_valid_date(date_value):\n",
    "            if valid_range_start is None:\n",
    "                valid_range_start = index\n",
    "            valid_range_end = index\n",
    "\n",
    "# Check if any valid dates were found\n",
    "if valid_range_start is not None:\n",
    "    print(f'Valid dates are from row {valid_range_start} to row {valid_range_end}.')\n",
    "else:\n",
    "    print('No valid dates found within the specified range.')\n"
   ]
  },
  {
   "cell_type": "code",
   "execution_count": 135,
   "metadata": {},
   "outputs": [
    {
     "name": "stdout",
     "output_type": "stream",
     "text": [
      "Valid dates are from row 0 to row 6300.\n"
     ]
    }
   ],
   "source": [
    "# Define a function to check if a date is valid\n",
    "def is_valid_date(date_str):\n",
    "    if isinstance(date_str, str):\n",
    "        try:\n",
    "            parse(date_str)\n",
    "            return True\n",
    "        except ValueError:\n",
    "            return False\n",
    "    return False  # Return False for non-string values\n",
    "\n",
    "# List of date columns (you can add more if needed)\n",
    "date_columns = ['Case Number.1']\n",
    "\n",
    "# Initialize a flag to track the valid date range\n",
    "valid_range_start = None\n",
    "valid_range_end = None\n",
    "\n",
    "# Iterate through date columns and check for valid dates up to row 6301\n",
    "for column in date_columns:\n",
    "    for index, date_value in enumerate(attacks.iloc[:6301][column]):\n",
    "        if is_valid_date(date_value):\n",
    "            if valid_range_start is None:\n",
    "                valid_range_start = index\n",
    "            valid_range_end = index\n",
    "\n",
    "# Check if any valid dates were found\n",
    "if valid_range_start is not None:\n",
    "    print(f'Valid dates are from row {valid_range_start} to row {valid_range_end}.')\n",
    "else:\n",
    "    print('No valid dates found within the specified range.')\n"
   ]
  },
  {
   "cell_type": "code",
   "execution_count": 177,
   "metadata": {},
   "outputs": [
    {
     "data": {
      "text/plain": [
       "array(['57', '11', '48', nan, '18', '52', '15', '12', '32', '10', '21',\n",
       "       '34', '30', '60', '33', '29', '54', '41', '37', '56', '19', '25',\n",
       "       '69', '38', '55', '35', '46', '45', '14', '40s', '28', '20', '24',\n",
       "       '26', '49', '22', '7', '31', '17', '40', '13', '42', '3', '8',\n",
       "       '50', '16', '82', '73', '20s', '68', '51', '39', '58', 'Teen',\n",
       "       '47', '61', '65', '36', '66', '43', '60s', '9', '72', '59', '6',\n",
       "       '27', '64', '23', '71', '44', '62', '63', '70', '18 months', '53',\n",
       "       '30s', '50s', 'teen', '77', '74', '28 & 26', '5', '86', '18 or 20',\n",
       "       '12 or 13', '46 & 34', '28, 23 & 30', 'Teens', '36 & 26',\n",
       "       '8 or 10', '84', '\\xa0 ', ' ', '30 or 36', '6½', '21 & ?', '75',\n",
       "       '33 or 37', 'mid-30s', '23 & 20', ' 30', '7      &    31', ' 28',\n",
       "       '20?', \"60's\", '32 & 30', '16 to 18', '87', '67', 'Elderly',\n",
       "       'mid-20s', 'Ca. 33', '74 ', '45 ', '21 or 26', '20 ', '>50',\n",
       "       '18 to 22', 'adult', '9 & 12', '? & 19', '9 months', '25 to 35',\n",
       "       '23 & 26', '1', '(adult)', '33 & 37', '25 or 28',\n",
       "       '37, 67, 35, 27,  ? & 27', '21, 34,24 & 35', '30 & 32', '50 & 30',\n",
       "       '17 & 35', 'X', '\"middle-age\"', '13 or 18', '34 & 19', '33 & 26',\n",
       "       '2 to 3 months', 'MAKE LINE GREEN', ' 43', '81', '\"young\"',\n",
       "       '7 or 8', '78', '17 & 16', 'F', 'Both 11', '9 or 10', 'young',\n",
       "       '36 & 23', '  ', 'A.M.', '?    &   14', '10 or 12', '31 or 33',\n",
       "       '2½', '13 or 14'], dtype=object)"
      ]
     },
     "execution_count": 177,
     "metadata": {},
     "output_type": "execute_result"
    }
   ],
   "source": [
    "attacks[\"Age\"].unique()"
   ]
  },
  {
   "cell_type": "code",
   "execution_count": 179,
   "metadata": {},
   "outputs": [
    {
     "data": {
      "text/plain": [
       "3737"
      ]
     },
     "execution_count": 179,
     "metadata": {},
     "output_type": "execute_result"
    }
   ],
   "source": [
    "attacks[\"Injury\"].nunique()"
   ]
  },
  {
   "cell_type": "code",
   "execution_count": null,
   "metadata": {},
   "outputs": [],
   "source": []
  }
 ],
 "metadata": {
  "kernelspec": {
   "display_name": "ironhack",
   "language": "python",
   "name": "python3"
  },
  "language_info": {
   "codemirror_mode": {
    "name": "ipython",
    "version": 3
   },
   "file_extension": ".py",
   "mimetype": "text/x-python",
   "name": "python",
   "nbconvert_exporter": "python",
   "pygments_lexer": "ipython3",
   "version": "3.11.5"
  }
 },
 "nbformat": 4,
 "nbformat_minor": 2
}
