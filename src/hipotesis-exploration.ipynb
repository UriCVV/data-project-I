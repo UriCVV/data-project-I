{
 "cells": [
  {
   "cell_type": "markdown",
   "metadata": {},
   "source": [
    "# Shark attack data project"
   ]
  },
  {
   "cell_type": "markdown",
   "metadata": {},
   "source": [
    "#### Import data, explore it, determine what needs to be cleaned or removed in order to make data useful and make hipotesis/questions"
   ]
  },
  {
   "cell_type": "code",
   "execution_count": 35,
   "metadata": {},
   "outputs": [],
   "source": [
    "import numpy as np\n",
    "import pandas as pd\n",
    "import os\n",
    "import matplotlib as plt\n",
    "import seaborn as sns\n",
    "import warnings\n",
    "warnings.filterwarnings('ignore')\n"
   ]
  },
  {
   "cell_type": "code",
   "execution_count": 3,
   "metadata": {},
   "outputs": [],
   "source": [
    "attacks = pd.read_csv(\"../data/attacks.csv\", encoding='latin1')\n"
   ]
  },
  {
   "cell_type": "code",
   "execution_count": 88,
   "metadata": {},
   "outputs": [
    {
     "data": {
      "text/html": [
       "<div>\n",
       "<style scoped>\n",
       "    .dataframe tbody tr th:only-of-type {\n",
       "        vertical-align: middle;\n",
       "    }\n",
       "\n",
       "    .dataframe tbody tr th {\n",
       "        vertical-align: top;\n",
       "    }\n",
       "\n",
       "    .dataframe thead th {\n",
       "        text-align: right;\n",
       "    }\n",
       "</style>\n",
       "<table border=\"1\" class=\"dataframe\">\n",
       "  <thead>\n",
       "    <tr style=\"text-align: right;\">\n",
       "      <th></th>\n",
       "      <th>Case Number</th>\n",
       "      <th>Date</th>\n",
       "      <th>Year</th>\n",
       "      <th>Type</th>\n",
       "      <th>Country</th>\n",
       "      <th>Area</th>\n",
       "      <th>Location</th>\n",
       "      <th>Activity</th>\n",
       "      <th>Name</th>\n",
       "      <th>Sex</th>\n",
       "      <th>Age</th>\n",
       "      <th>Injury</th>\n",
       "      <th>Fatal (Y/N)</th>\n",
       "      <th>Time</th>\n",
       "      <th>Species</th>\n",
       "      <th>Investigator or Source</th>\n",
       "      <th>pdf</th>\n",
       "      <th>href formula</th>\n",
       "      <th>href</th>\n",
       "      <th>Case Number.1</th>\n",
       "      <th>Case Number.2</th>\n",
       "      <th>original order</th>\n",
       "      <th>Unnamed: 22</th>\n",
       "      <th>Unnamed: 23</th>\n",
       "    </tr>\n",
       "  </thead>\n",
       "  <tbody>\n",
       "    <tr>\n",
       "      <th>2273</th>\n",
       "      <td>1996.10.28.b</td>\n",
       "      <td>28-Oct-1996</td>\n",
       "      <td>1996.0</td>\n",
       "      <td>Unprovoked</td>\n",
       "      <td>BRAZIL</td>\n",
       "      <td>Pernambuco</td>\n",
       "      <td>Barra de Jangada</td>\n",
       "      <td>Surfing</td>\n",
       "      <td>Gilvan Jaime de Freitas Júnior</td>\n",
       "      <td>NaN</td>\n",
       "      <td>NaN</td>\n",
       "      <td>Leg bitten</td>\n",
       "      <td>N</td>\n",
       "      <td>NaN</td>\n",
       "      <td>NaN</td>\n",
       "      <td>D. Duarte</td>\n",
       "      <td>1996.10.28.b-deFrietas.pdf</td>\n",
       "      <td>http://sharkattackfile.net/spreadsheets/pdf_di...</td>\n",
       "      <td>http://sharkattackfile.net/spreadsheets/pdf_di...</td>\n",
       "      <td>1996.10.28.b</td>\n",
       "      <td>1996.10.28.b</td>\n",
       "      <td>4030.0</td>\n",
       "      <td>NaN</td>\n",
       "      <td>NaN</td>\n",
       "    </tr>\n",
       "  </tbody>\n",
       "</table>\n",
       "</div>"
      ],
      "text/plain": [
       "       Case Number         Date    Year        Type Country        Area  \\\n",
       "2273  1996.10.28.b  28-Oct-1996  1996.0  Unprovoked  BRAZIL  Pernambuco   \n",
       "\n",
       "              Location Activity                            Name Sex   Age  \\\n",
       "2273  Barra de Jangada  Surfing  Gilvan Jaime de Freitas Júnior  NaN  NaN   \n",
       "\n",
       "          Injury Fatal (Y/N) Time Species  Investigator or Source  \\\n",
       "2273  Leg bitten           N  NaN      NaN              D. Duarte   \n",
       "\n",
       "                             pdf  \\\n",
       "2273  1996.10.28.b-deFrietas.pdf   \n",
       "\n",
       "                                           href formula  \\\n",
       "2273  http://sharkattackfile.net/spreadsheets/pdf_di...   \n",
       "\n",
       "                                                   href Case Number.1  \\\n",
       "2273  http://sharkattackfile.net/spreadsheets/pdf_di...  1996.10.28.b   \n",
       "\n",
       "     Case Number.2  original order Unnamed: 22 Unnamed: 23  \n",
       "2273  1996.10.28.b          4030.0         NaN         NaN  "
      ]
     },
     "execution_count": 88,
     "metadata": {},
     "output_type": "execute_result"
    }
   ],
   "source": [
    "pd.set_option('display.max_columns', None) #Displays all the columns if they don't fit in the notebook\n",
    "attacks.sample()"
   ]
  },
  {
   "cell_type": "markdown",
   "metadata": {},
   "source": [
    "### `What would be interesting to find out?`"
   ]
  },
  {
   "cell_type": "markdown",
   "metadata": {},
   "source": [
    "- Are sahrks gender discriminative?\n",
    "- Waht percentage of the attacks occur when doing activities like boat trips, fishing, surfing...?\n",
    "- ~~Which species is te most agresive?~~ (too many unique values)\n",
    "- Whats the mortality rate of a shark attack?\n",
    "- Do they increase or decrease alongst the years?\n",
    "- What are the most common injuries (parts of the body)?\n",
    "- How many megalodon attack are...?\n",
    "- what time of the day do more attack occur?\n",
    "- waht range of age is the most attacked?\n",
    "- where do they occur? country/region"
   ]
  },
  {
   "cell_type": "markdown",
   "metadata": {},
   "source": [
    "### `Whats this data`"
   ]
  },
  {
   "cell_type": "markdown",
   "metadata": {},
   "source": [
    "`This is a dirty and desorganized dataset of global shark attacks with the following information`\n",
    "\n",
    "- `Case number`: Case indexes\n",
    "- `Date`\n",
    "- `Year`\n",
    "- `Type`: Type of the incident that can mainly be: Boating, Unprovoked, Provoked, Questionable o Sea Disaster\n",
    "- `Country`\n",
    "- `Area`: Where the attack occured\n",
    "- `Location`: More specific location of the incident\n",
    "- `Activity`: that the person was doing when the incident happened\n",
    "- `Name`\n",
    "- `Sex`\n",
    "- `Age`\n",
    "- `Injury`: description of the injury\n",
    "- `Fatal (Y/N)`: If the person was killed \"Y\" or survived the attack \"N\".\n",
    "- `Time`: The hour and minutes wehn the incident happened\n",
    "- `Species`: The species of shark involved in the incident\n",
    "- `Investigatior or Source`: Person or entity that who carried out the case investigation (could be both)\n",
    "- `pdf`: name of document related to the incident\n",
    "- `href formula & href`: link to the actual document\n",
    "- `Case Number.1 & Case Number.2`: copies of 'Case Number'\n",
    "- `original order`: ? another identifier?????\n"
   ]
  },
  {
   "cell_type": "markdown",
   "metadata": {},
   "source": [
    "### `What needs to be cleaned?`"
   ]
  },
  {
   "cell_type": "markdown",
   "metadata": {},
   "source": [
    "- 'Unnamed: 22' and 'Unnamed: 23' are almost compleatly empty. Can drop them\n",
    "- Fix columns names. 'Sex ' and 'Species ' have space at the end. Remove spaces for '_'and capital letters. 'Fatal (Y/N)' -> Fatal\n",
    "- From row index 8707 to the end is all NaN but actual data goes till row 6302\n",
    "- Standarize. All Sex values should be 'F'->female, 'M'->male or 'unknown'\n",
    "- Standarize. All fatality values should be 'Y'->yes, 'N'->no or 'unknown'\n",
    "- Too many unique values in species, not useful data\n",
    "- Lots of matching values between the three identifier columns. Drop two of them and make all 'Case Number' values, unique identifier\n",
    "- Remove duplictae rows, indexes: 4688, 5709, 6295\n",
    "- Dates/ year need to be cleaned and standrized in the same format\n",
    "- Description on the activity being realized when the incident happened need to be simpler. Find out the most comon activities, use regex to put them in the same category and the rest should be unknown\n",
    "- Injury should also be cleaned with regex\n",
    "- Change all null values of the reduced list for 'unknown'\n",
    "- Type values will be: Boating, Unprovoked, Provoked, Questionable o Sea Disaster\n",
    "- Country/Area/Location: Useful data. May be deducible one with each other. it's cleanable but might take too much work???\n",
    "- Time: Useful data. might take too much work but cleanable.\n",
    "- not going to use pdf for now"
   ]
  },
  {
   "cell_type": "markdown",
   "metadata": {},
   "source": [
    "`Explorantion practices used to reach to this conclusions can be found in the section below`"
   ]
  },
  {
   "cell_type": "code",
   "execution_count": 6,
   "metadata": {},
   "outputs": [
    {
     "data": {
      "text/plain": [
       "(25723, 24)"
      ]
     },
     "execution_count": 6,
     "metadata": {},
     "output_type": "execute_result"
    }
   ],
   "source": [
    "attacks.shape"
   ]
  },
  {
   "cell_type": "markdown",
   "metadata": {},
   "source": [
    "##### Exploration methods/attributes\n",
    "\n",
    "- table\n",
    "    - attacks.shape`\n",
    "    - attacks.columns`\n",
    "    - attacks.info\n",
    "- cohesiveness of data\n",
    "    - attacks.duplicated\n",
    "    - attacks.ina().sum()\n",
    "- values\n",
    "    - attacks.dtypes: categorical / qty / str, int, float\n",
    "    - attacks.describe, # qtve variables\n",
    "    - attacks[col1].value_counts() # frequency of each level of cat, dimensions\n",
    "    - attacks.unique()/.nunique()"
   ]
  },
  {
   "cell_type": "code",
   "execution_count": 77,
   "metadata": {},
   "outputs": [
    {
     "name": "stdout",
     "output_type": "stream",
     "text": [
      "<class 'pandas.core.frame.DataFrame'>\n",
      "RangeIndex: 25723 entries, 0 to 25722\n",
      "Data columns (total 24 columns):\n",
      " #   Column                  Non-Null Count  Dtype  \n",
      "---  ------                  --------------  -----  \n",
      " 0   Case Number             8702 non-null   object \n",
      " 1   Date                    6302 non-null   object \n",
      " 2   Year                    6300 non-null   float64\n",
      " 3   Type                    6298 non-null   object \n",
      " 4   Country                 6252 non-null   object \n",
      " 5   Area                    5847 non-null   object \n",
      " 6   Location                5762 non-null   object \n",
      " 7   Activity                5758 non-null   object \n",
      " 8   Name                    6092 non-null   object \n",
      " 9   Sex                     5737 non-null   object \n",
      " 10  Age                     3471 non-null   object \n",
      " 11  Injury                  6274 non-null   object \n",
      " 12  Fatal (Y/N)             5763 non-null   object \n",
      " 13  Time                    2948 non-null   object \n",
      " 14  Species                 3464 non-null   object \n",
      " 15  Investigator or Source  6285 non-null   object \n",
      " 16  pdf                     6302 non-null   object \n",
      " 17  href formula            6301 non-null   object \n",
      " 18  href                    6302 non-null   object \n",
      " 19  Case Number.1           6302 non-null   object \n",
      " 20  Case Number.2           6302 non-null   object \n",
      " 21  original order          6309 non-null   float64\n",
      " 22  Unnamed: 22             1 non-null      object \n",
      " 23  Unnamed: 23             2 non-null      object \n",
      "dtypes: float64(2), object(22)\n",
      "memory usage: 22.8 MB\n"
     ]
    }
   ],
   "source": [
    "attacks.info(memory_usage='deep')"
   ]
  },
  {
   "cell_type": "code",
   "execution_count": 8,
   "metadata": {},
   "outputs": [
    {
     "data": {
      "text/plain": [
       "Case Number               17021\n",
       "Date                      19421\n",
       "Year                      19423\n",
       "Type                      19425\n",
       "Country                   19471\n",
       "Area                      19876\n",
       "Location                  19961\n",
       "Activity                  19965\n",
       "Name                      19631\n",
       "Sex                       19986\n",
       "Age                       22252\n",
       "Injury                    19449\n",
       "Fatal (Y/N)               19960\n",
       "Time                      22775\n",
       "Species                   22259\n",
       "Investigator or Source    19438\n",
       "pdf                       19421\n",
       "href formula              19422\n",
       "href                      19421\n",
       "Case Number.1             19421\n",
       "Case Number.2             19421\n",
       "original order            19414\n",
       "Unnamed: 22               25722\n",
       "Unnamed: 23               25721\n",
       "dtype: int64"
      ]
     },
     "execution_count": 8,
     "metadata": {},
     "output_type": "execute_result"
    }
   ],
   "source": [
    "attacks.isna().sum()\n",
    "# 'Unnamed: 22' and 'Unnamed: 23' are almost compleatly empty. Can drop them"
   ]
  },
  {
   "cell_type": "code",
   "execution_count": 17,
   "metadata": {},
   "outputs": [
    {
     "data": {
      "text/plain": [
       "['Case Number',\n",
       " 'Date',\n",
       " 'Year',\n",
       " 'Type',\n",
       " 'Country',\n",
       " 'Area',\n",
       " 'Location',\n",
       " 'Activity',\n",
       " 'Name',\n",
       " 'Sex ',\n",
       " 'Age',\n",
       " 'Injury',\n",
       " 'Fatal (Y/N)',\n",
       " 'Time',\n",
       " 'Species ',\n",
       " 'Investigator or Source',\n",
       " 'pdf',\n",
       " 'href formula',\n",
       " 'href',\n",
       " 'Case Number.1',\n",
       " 'Case Number.2',\n",
       " 'original order',\n",
       " 'Unnamed: 22',\n",
       " 'Unnamed: 23']"
      ]
     },
     "execution_count": 17,
     "metadata": {},
     "output_type": "execute_result"
    }
   ],
   "source": [
    "attacks.columns.values.tolist()\n",
    "#Fix columns names. Sex and species have space at the end."
   ]
  },
  {
   "cell_type": "code",
   "execution_count": 9,
   "metadata": {},
   "outputs": [
    {
     "data": {
      "text/plain": [
       "17020"
      ]
     },
     "execution_count": 9,
     "metadata": {},
     "output_type": "execute_result"
    }
   ],
   "source": [
    "attacks.isna().all(axis=1).sum()"
   ]
  },
  {
   "cell_type": "code",
   "execution_count": 10,
   "metadata": {},
   "outputs": [
    {
     "data": {
      "text/plain": [
       "8702"
      ]
     },
     "execution_count": 10,
     "metadata": {},
     "output_type": "execute_result"
    }
   ],
   "source": [
    "attacks.index[attacks.isna().all(axis=1)].min()"
   ]
  },
  {
   "cell_type": "code",
   "execution_count": 11,
   "metadata": {},
   "outputs": [
    {
     "data": {
      "text/plain": [
       "25721"
      ]
     },
     "execution_count": 11,
     "metadata": {},
     "output_type": "execute_result"
    }
   ],
   "source": [
    "attacks.index[attacks.isna().all(axis=1)].max()\n",
    "#From row index 8707 to the end is all NaN"
   ]
  },
  {
   "cell_type": "code",
   "execution_count": 40,
   "metadata": {},
   "outputs": [
    {
     "data": {
      "text/plain": [
       "25722"
      ]
     },
     "execution_count": 40,
     "metadata": {},
     "output_type": "execute_result"
    }
   ],
   "source": [
    "attacks.index.max()"
   ]
  },
  {
   "cell_type": "code",
   "execution_count": 59,
   "metadata": {},
   "outputs": [
    {
     "data": {
      "text/plain": [
       "Case Number                xx\n",
       "Date                      NaN\n",
       "Year                      NaN\n",
       "Type                      NaN\n",
       "Country                   NaN\n",
       "Area                      NaN\n",
       "Location                  NaN\n",
       "Activity                  NaN\n",
       "Name                      NaN\n",
       "Sex                       NaN\n",
       "Age                       NaN\n",
       "Injury                    NaN\n",
       "Fatal (Y/N)               NaN\n",
       "Time                      NaN\n",
       "Species                   NaN\n",
       "Investigator or Source    NaN\n",
       "pdf                       NaN\n",
       "href formula              NaN\n",
       "href                      NaN\n",
       "Case Number.1             NaN\n",
       "Case Number.2             NaN\n",
       "original order            NaN\n",
       "Unnamed: 22               NaN\n",
       "Unnamed: 23               NaN\n",
       "Name: 25722, dtype: object"
      ]
     },
     "execution_count": 59,
     "metadata": {},
     "output_type": "execute_result"
    }
   ],
   "source": [
    "attacks.iloc[25722]"
   ]
  },
  {
   "cell_type": "code",
   "execution_count": 99,
   "metadata": {},
   "outputs": [
    {
     "data": {
      "text/plain": [
       "Case Number                    0\n",
       "Date                         NaN\n",
       "Year                         NaN\n",
       "Type                         NaN\n",
       "Country                      NaN\n",
       "Area                         NaN\n",
       "Location                     NaN\n",
       "Activity                     NaN\n",
       "Name                         NaN\n",
       "Sex                          NaN\n",
       "Age                          NaN\n",
       "Injury                       NaN\n",
       "Fatal (Y/N)                  NaN\n",
       "Time                         NaN\n",
       "Species                      NaN\n",
       "Investigator or Source       NaN\n",
       "pdf                          NaN\n",
       "href formula                 NaN\n",
       "href                         NaN\n",
       "Case Number.1                NaN\n",
       "Case Number.2                NaN\n",
       "original order            6304.0\n",
       "Unnamed: 22                  NaN\n",
       "Unnamed: 23                  NaN\n",
       "Name: 6302, dtype: object"
      ]
     },
     "execution_count": 99,
     "metadata": {},
     "output_type": "execute_result"
    }
   ],
   "source": [
    "#attacks.iloc[8701]\n",
    "#attacks.iloc[7373]\n",
    "#attacks.iloc[6373]\n",
    "attacks.iloc[6302]"
   ]
  },
  {
   "cell_type": "code",
   "execution_count": 72,
   "metadata": {},
   "outputs": [
    {
     "name": "stdout",
     "output_type": "stream",
     "text": [
      "actual data ends at row 6302\n"
     ]
    }
   ],
   "source": [
    "# check where does the actual data stops because there's lots of rows with empty values except for Case Number that has value '0'\n",
    "# columns_to_check = [col for col in attacks.columns if col != 'Case Number']\n",
    "\n",
    "# same with values of column 'original order'\n",
    "columns_to_check = [col for col in attacks.columns if col != 'Case Number' and col != 'original order']\n",
    "\n",
    "min_index = attacks[columns_to_check].isna().all(axis=1).idxmax()\n",
    "\n",
    "print(f\"actual data ends at row {min_index}\")"
   ]
  },
  {
   "cell_type": "code",
   "execution_count": 12,
   "metadata": {},
   "outputs": [
    {
     "data": {
      "text/html": [
       "<div>\n",
       "<style scoped>\n",
       "    .dataframe tbody tr th:only-of-type {\n",
       "        vertical-align: middle;\n",
       "    }\n",
       "\n",
       "    .dataframe tbody tr th {\n",
       "        vertical-align: top;\n",
       "    }\n",
       "\n",
       "    .dataframe thead th {\n",
       "        text-align: right;\n",
       "    }\n",
       "</style>\n",
       "<table border=\"1\" class=\"dataframe\">\n",
       "  <thead>\n",
       "    <tr style=\"text-align: right;\">\n",
       "      <th></th>\n",
       "      <th>Year</th>\n",
       "      <th>original order</th>\n",
       "    </tr>\n",
       "  </thead>\n",
       "  <tbody>\n",
       "    <tr>\n",
       "      <th>count</th>\n",
       "      <td>6300.000000</td>\n",
       "      <td>6309.000000</td>\n",
       "    </tr>\n",
       "    <tr>\n",
       "      <th>mean</th>\n",
       "      <td>1927.272381</td>\n",
       "      <td>3155.999683</td>\n",
       "    </tr>\n",
       "    <tr>\n",
       "      <th>std</th>\n",
       "      <td>281.116308</td>\n",
       "      <td>1821.396206</td>\n",
       "    </tr>\n",
       "    <tr>\n",
       "      <th>min</th>\n",
       "      <td>0.000000</td>\n",
       "      <td>2.000000</td>\n",
       "    </tr>\n",
       "    <tr>\n",
       "      <th>25%</th>\n",
       "      <td>1942.000000</td>\n",
       "      <td>1579.000000</td>\n",
       "    </tr>\n",
       "    <tr>\n",
       "      <th>50%</th>\n",
       "      <td>1977.000000</td>\n",
       "      <td>3156.000000</td>\n",
       "    </tr>\n",
       "    <tr>\n",
       "      <th>75%</th>\n",
       "      <td>2005.000000</td>\n",
       "      <td>4733.000000</td>\n",
       "    </tr>\n",
       "    <tr>\n",
       "      <th>max</th>\n",
       "      <td>2018.000000</td>\n",
       "      <td>6310.000000</td>\n",
       "    </tr>\n",
       "  </tbody>\n",
       "</table>\n",
       "</div>"
      ],
      "text/plain": [
       "              Year  original order\n",
       "count  6300.000000     6309.000000\n",
       "mean   1927.272381     3155.999683\n",
       "std     281.116308     1821.396206\n",
       "min       0.000000        2.000000\n",
       "25%    1942.000000     1579.000000\n",
       "50%    1977.000000     3156.000000\n",
       "75%    2005.000000     4733.000000\n",
       "max    2018.000000     6310.000000"
      ]
     },
     "execution_count": 12,
     "metadata": {},
     "output_type": "execute_result"
    }
   ],
   "source": [
    "attacks.describe()"
   ]
  },
  {
   "cell_type": "code",
   "execution_count": 15,
   "metadata": {},
   "outputs": [
    {
     "data": {
      "text/plain": [
       "array(['F', 'M', nan, 'M ', 'lli', 'N', '.'], dtype=object)"
      ]
     },
     "execution_count": 15,
     "metadata": {},
     "output_type": "execute_result"
    }
   ],
   "source": [
    "attacks[\"Sex \"].unique()\n",
    "#Standarize. All Sex values should be 'F'->female, 'M'->male or 'unknown'"
   ]
  },
  {
   "cell_type": "code",
   "execution_count": 16,
   "metadata": {},
   "outputs": [
    {
     "data": {
      "text/plain": [
       "array(['N', 'Y', nan, 'M', 'UNKNOWN', '2017', ' N', 'N ', 'y'],\n",
       "      dtype=object)"
      ]
     },
     "execution_count": 16,
     "metadata": {},
     "output_type": "execute_result"
    }
   ],
   "source": [
    "attacks[\"Fatal (Y/N)\"].unique()\n",
    "#Standarize. All fatality values should be 'Y'->yes, 'N'->no or 'unknown'"
   ]
  },
  {
   "cell_type": "code",
   "execution_count": 13,
   "metadata": {},
   "outputs": [
    {
     "data": {
      "text/plain": [
       "1549"
      ]
     },
     "execution_count": 13,
     "metadata": {},
     "output_type": "execute_result"
    }
   ],
   "source": [
    "attacks[\"Species \"].nunique()\n",
    "#Too many unique values in species, not useful data"
   ]
  },
  {
   "cell_type": "code",
   "execution_count": 81,
   "metadata": {},
   "outputs": [
    {
     "name": "stdout",
     "output_type": "stream",
     "text": [
      "6278 24\n"
     ]
    }
   ],
   "source": [
    "# attacks['Case Number'].equals(attacks['Case Number.1']) -> False\n",
    "# attacks['Case Number'].equals(attacks['Case Number.2']) -> False\n",
    "# attacks['Case Number.1'].equals(attacks['Case Number.2']) -> False\n",
    "\n",
    "matching_cases = attacks.iloc[:6302][attacks['Case Number'] == attacks['Case Number.1']]\n",
    "non_matching_cases = attacks.iloc[:6302][attacks['Case Number'] != attacks['Case Number.1']]\n",
    "\n",
    "matching_count = matching_cases.shape[0]\n",
    "non_matching_count = non_matching_cases.shape[0]\n",
    "\n",
    "print(matching_count, non_matching_count)\n",
    "# When comparing seems like NaN != NaN. These are not counted as a match. No need to use the index 8702 .\n"
   ]
  },
  {
   "cell_type": "code",
   "execution_count": 82,
   "metadata": {},
   "outputs": [
    {
     "name": "stdout",
     "output_type": "stream",
     "text": [
      "Case Number and Case Number.1 have 6278 matching values and 24 non-matching values\n",
      "Case Number and Case Number.2 have 6298 matching values and 4 non-matching values\n",
      "Case Number.1 and Case Number.2 have 6282 matching values and 20 non-matching values\n"
     ]
    }
   ],
   "source": [
    "column_pairs = [\n",
    "    ('Case Number', 'Case Number.1'),\n",
    "    ('Case Number', 'Case Number.2'),\n",
    "    ('Case Number.1', 'Case Number.2')\n",
    "]\n",
    "\n",
    "results = []\n",
    "\n",
    "for column1, column2 in column_pairs:\n",
    "    matching_count = attacks.iloc[:6302][attacks[column1] == attacks[column2]].shape[0]\n",
    "    non_matching_count = attacks.iloc[:6302][attacks[column1] != attacks[column2]].shape[0]\n",
    "    result_string = f\"{column1} and {column2} have {matching_count} matching values and {non_matching_count} non-matching values\"\n",
    "    results.append(result_string)\n",
    "\n",
    "for result in results:\n",
    "    print(result)"
   ]
  },
  {
   "cell_type": "code",
   "execution_count": 76,
   "metadata": {},
   "outputs": [
    {
     "data": {
      "text/plain": [
       "False"
      ]
     },
     "execution_count": 76,
     "metadata": {},
     "output_type": "execute_result"
    }
   ],
   "source": [
    "attacks[\"Case Number\"].is_unique\n",
    "#Lots of matching values between the three identifier columns. Drop two of them and make all 'Case Number' values, unique identifier"
   ]
  },
  {
   "cell_type": "code",
   "execution_count": 79,
   "metadata": {},
   "outputs": [
    {
     "data": {
      "text/plain": [
       "True"
      ]
     },
     "execution_count": 79,
     "metadata": {},
     "output_type": "execute_result"
    }
   ],
   "source": [
    "subset = attacks[['Date', 'Year', 'Type', 'Country', 'Area', 'Location', 'Activity', 'Name', 'Sex ', 'Age', 'Injury', 'Fatal (Y/N)']]\n",
    "\n",
    "subset.duplicated().any()"
   ]
  },
  {
   "cell_type": "code",
   "execution_count": 85,
   "metadata": {},
   "outputs": [
    {
     "data": {
      "text/html": [
       "<div>\n",
       "<style scoped>\n",
       "    .dataframe tbody tr th:only-of-type {\n",
       "        vertical-align: middle;\n",
       "    }\n",
       "\n",
       "    .dataframe tbody tr th {\n",
       "        vertical-align: top;\n",
       "    }\n",
       "\n",
       "    .dataframe thead th {\n",
       "        text-align: right;\n",
       "    }\n",
       "</style>\n",
       "<table border=\"1\" class=\"dataframe\">\n",
       "  <thead>\n",
       "    <tr style=\"text-align: right;\">\n",
       "      <th></th>\n",
       "      <th>Date</th>\n",
       "      <th>Year</th>\n",
       "      <th>Type</th>\n",
       "      <th>Country</th>\n",
       "      <th>Area</th>\n",
       "      <th>Location</th>\n",
       "      <th>Activity</th>\n",
       "      <th>Name</th>\n",
       "      <th>Sex</th>\n",
       "      <th>Age</th>\n",
       "      <th>Injury</th>\n",
       "      <th>Fatal (Y/N)</th>\n",
       "    </tr>\n",
       "  </thead>\n",
       "  <tbody>\n",
       "    <tr>\n",
       "      <th>4688</th>\n",
       "      <td>Fall 1943</td>\n",
       "      <td>1943.0</td>\n",
       "      <td>Unprovoked</td>\n",
       "      <td>USA</td>\n",
       "      <td>Hawaii</td>\n",
       "      <td>Midway Island, Northwestern Hawaiian Islands</td>\n",
       "      <td>Spearfishing</td>\n",
       "      <td>2 males</td>\n",
       "      <td>M</td>\n",
       "      <td>NaN</td>\n",
       "      <td>Calf nipped in each case</td>\n",
       "      <td>N</td>\n",
       "    </tr>\n",
       "    <tr>\n",
       "      <th>5709</th>\n",
       "      <td>1890</td>\n",
       "      <td>1890.0</td>\n",
       "      <td>Unprovoked</td>\n",
       "      <td>INDIA</td>\n",
       "      <td>Tamil Nadu</td>\n",
       "      <td>Tuticorin</td>\n",
       "      <td>Diving</td>\n",
       "      <td>a pearl diver</td>\n",
       "      <td>M</td>\n",
       "      <td>NaN</td>\n",
       "      <td>No details</td>\n",
       "      <td>UNKNOWN</td>\n",
       "    </tr>\n",
       "    <tr>\n",
       "      <th>6295</th>\n",
       "      <td>Before 1906</td>\n",
       "      <td>0.0</td>\n",
       "      <td>Unprovoked</td>\n",
       "      <td>AUSTRALIA</td>\n",
       "      <td>NaN</td>\n",
       "      <td>NaN</td>\n",
       "      <td>Fishing</td>\n",
       "      <td>fisherman</td>\n",
       "      <td>M</td>\n",
       "      <td>NaN</td>\n",
       "      <td>FATAL</td>\n",
       "      <td>Y</td>\n",
       "    </tr>\n",
       "  </tbody>\n",
       "</table>\n",
       "</div>"
      ],
      "text/plain": [
       "             Date    Year        Type    Country        Area  \\\n",
       "4688    Fall 1943  1943.0  Unprovoked        USA      Hawaii   \n",
       "5709         1890  1890.0  Unprovoked      INDIA  Tamil Nadu   \n",
       "6295  Before 1906     0.0  Unprovoked  AUSTRALIA         NaN   \n",
       "\n",
       "                                          Location      Activity  \\\n",
       "4688  Midway Island, Northwestern Hawaiian Islands  Spearfishing   \n",
       "5709                                     Tuticorin        Diving   \n",
       "6295                                           NaN       Fishing   \n",
       "\n",
       "               Name Sex   Age                    Injury Fatal (Y/N)  \n",
       "4688        2 males    M  NaN  Calf nipped in each case           N  \n",
       "5709  a pearl diver    M  NaN                No details     UNKNOWN  \n",
       "6295      fisherman    M  NaN                     FATAL           Y  "
      ]
     },
     "execution_count": 85,
     "metadata": {},
     "output_type": "execute_result"
    }
   ],
   "source": [
    "subset[:6302][subset.duplicated()]\n",
    "# These three rows are dublicated"
   ]
  },
  {
   "cell_type": "code",
   "execution_count": 105,
   "metadata": {},
   "outputs": [
    {
     "data": {
      "text/plain": [
       "8"
      ]
     },
     "execution_count": 105,
     "metadata": {},
     "output_type": "execute_result"
    }
   ],
   "source": [
    "attacks[\"Type\"].nunique()"
   ]
  },
  {
   "cell_type": "code",
   "execution_count": 107,
   "metadata": {},
   "outputs": [
    {
     "data": {
      "text/plain": [
       "array(['Boating', 'Unprovoked', 'Invalid', 'Provoked', 'Questionable',\n",
       "       'Sea Disaster', nan, 'Boat', 'Boatomg'], dtype=object)"
      ]
     },
     "execution_count": 107,
     "metadata": {},
     "output_type": "execute_result"
    }
   ],
   "source": [
    "attacks[\"Type\"].unique()"
   ]
  },
  {
   "cell_type": "code",
   "execution_count": 95,
   "metadata": {},
   "outputs": [
    {
     "data": {
      "text/plain": [
       "array([2018., 2017.,   nan, 2016., 2015., 2014., 2013., 2012., 2011.,\n",
       "       2010., 2009., 2008., 2007., 2006., 2005., 2004., 2003., 2002.,\n",
       "       2001., 2000., 1999., 1998., 1997., 1996., 1995., 1984., 1994.,\n",
       "       1993., 1992., 1991., 1990., 1989., 1969., 1988., 1987., 1986.,\n",
       "       1985., 1983., 1982., 1981., 1980., 1979., 1978., 1977., 1976.,\n",
       "       1975., 1974., 1973., 1972., 1971., 1970., 1968., 1967., 1966.,\n",
       "       1965., 1964., 1963., 1962., 1961., 1960., 1959., 1958., 1957.,\n",
       "       1956., 1955., 1954., 1953., 1952., 1951., 1950., 1949., 1948.,\n",
       "       1848., 1947., 1946., 1945., 1944., 1943., 1942., 1941., 1940.,\n",
       "       1939., 1938., 1937., 1936., 1935., 1934., 1933., 1932., 1931.,\n",
       "       1930., 1929., 1928., 1927., 1926., 1925., 1924., 1923., 1922.,\n",
       "       1921., 1920., 1919., 1918., 1917., 1916., 1915., 1914., 1913.,\n",
       "       1912., 1911., 1910., 1909., 1908., 1907., 1906., 1905., 1904.,\n",
       "       1903., 1902., 1901., 1900., 1899., 1898., 1897., 1896., 1895.,\n",
       "       1894., 1893., 1892., 1891., 1890., 1889., 1888., 1887., 1886.,\n",
       "       1885., 1884., 1883., 1882., 1881., 1880., 1879., 1878., 1877.,\n",
       "       1876., 1875., 1874., 1873., 1872., 1871., 1870., 1869., 1868.,\n",
       "       1867., 1866., 1865., 1864., 1863., 1862., 1861., 1860., 1859.,\n",
       "       1858., 1857., 1856., 1855., 1853., 1852., 1851., 1850., 1849.,\n",
       "       1847., 1846., 1845., 1844., 1842., 1841., 1840., 1839., 1837.,\n",
       "       1836., 1835., 1834., 1832., 1831., 1830., 1829., 1828., 1827.,\n",
       "       1826., 1825., 1823., 1822., 1819., 1818., 1817., 1816., 1815.,\n",
       "       1812., 1811., 1810., 1808., 1807., 1805., 1804., 1803., 1802.,\n",
       "       1801., 1800., 1797., 1792., 1791., 1788., 1787., 1786., 1785.,\n",
       "       1784., 1783., 1780., 1779., 1776., 1771., 1767., 1764., 1758.,\n",
       "       1753., 1751., 1749., 1755., 1748., 1742., 1738., 1733., 1723.,\n",
       "       1721., 1703., 1700., 1642., 1638., 1637., 1617., 1595., 1580.,\n",
       "       1555., 1554., 1543.,  500.,   77.,    5.,    0.])"
      ]
     },
     "execution_count": 95,
     "metadata": {},
     "output_type": "execute_result"
    }
   ],
   "source": [
    "#attacks[\"Year\"].nunique()\n",
    "attacks[\"Year\"].unique()"
   ]
  },
  {
   "cell_type": "code",
   "execution_count": 94,
   "metadata": {},
   "outputs": [
    {
     "data": {
      "text/plain": [
       "5433"
      ]
     },
     "execution_count": 94,
     "metadata": {},
     "output_type": "execute_result"
    }
   ],
   "source": [
    "attacks[\"Date\"].nunique()\n"
   ]
  },
  {
   "cell_type": "code",
   "execution_count": 98,
   "metadata": {},
   "outputs": [
    {
     "data": {
      "text/plain": [
       "array(['USA', 'AUSTRALIA', 'MEXICO', 'BRAZIL', 'ENGLAND', 'SOUTH AFRICA',\n",
       "       'THAILAND', 'COSTA RICA', 'MALDIVES', 'BAHAMAS', 'NEW CALEDONIA',\n",
       "       'ECUADOR', 'MALAYSIA', 'LIBYA', nan, 'CUBA', 'MAURITIUS',\n",
       "       'NEW ZEALAND', 'SPAIN', 'SAMOA', 'SOLOMON ISLANDS', 'JAPAN',\n",
       "       'EGYPT', 'ST HELENA, British overseas territory', 'COMOROS',\n",
       "       'REUNION', 'FRENCH POLYNESIA', 'UNITED KINGDOM',\n",
       "       'UNITED ARAB EMIRATES', 'PHILIPPINES', 'INDONESIA', 'CHINA',\n",
       "       'COLUMBIA', 'CAPE VERDE', 'Fiji', 'DOMINICAN REPUBLIC',\n",
       "       'CAYMAN ISLANDS', 'ARUBA', 'MOZAMBIQUE', 'FIJI', 'PUERTO RICO',\n",
       "       'ITALY', 'ATLANTIC OCEAN', 'GREECE', 'ST. MARTIN', 'FRANCE',\n",
       "       'PAPUA NEW GUINEA', 'TRINIDAD & TOBAGO', 'KIRIBATI', 'ISRAEL',\n",
       "       'DIEGO GARCIA', 'TAIWAN', 'JAMAICA', 'PALESTINIAN TERRITORIES',\n",
       "       'GUAM', 'SEYCHELLES', 'BELIZE', 'NIGERIA', 'TONGA', 'SCOTLAND',\n",
       "       'CANADA', 'CROATIA', 'SAUDI ARABIA', 'CHILE', 'ANTIGUA', 'KENYA',\n",
       "       'RUSSIA', 'TURKS & CAICOS', 'UNITED ARAB EMIRATES (UAE)', 'AZORES',\n",
       "       'SOUTH KOREA', 'MALTA', 'VIETNAM', 'MADAGASCAR', 'PANAMA',\n",
       "       'SOMALIA', 'NEVIS', 'BRITISH VIRGIN ISLANDS', 'NORWAY', 'SENEGAL',\n",
       "       'YEMEN', 'GULF OF ADEN', 'Sierra Leone', 'ST. MAARTIN',\n",
       "       'GRAND CAYMAN', 'Seychelles', 'LIBERIA', 'VANUATU', 'MEXICO ',\n",
       "       'HONDURAS', 'VENEZUELA', 'SRI LANKA', ' TONGA', 'URUGUAY', 'INDIA',\n",
       "       'MICRONESIA', 'CARIBBEAN SEA', 'OKINAWA', 'TANZANIA',\n",
       "       'MARSHALL ISLANDS', 'EGYPT / ISRAEL', 'NORTHERN ARABIAN SEA',\n",
       "       'HONG KONG', 'EL SALVADOR', 'ANGOLA', 'BERMUDA', 'MONTENEGRO',\n",
       "       'IRAN', 'TUNISIA', 'NAMIBIA', 'NORTH ATLANTIC OCEAN', 'PORTUGAL',\n",
       "       'SOUTH CHINA SEA', 'BANGLADESH', 'PALAU', 'WESTERN SAMOA',\n",
       "       'PACIFIC OCEAN ', 'BRITISH ISLES', 'GRENADA', 'IRAQ', 'TURKEY',\n",
       "       'SINGAPORE', 'NEW BRITAIN', 'SUDAN', 'JOHNSTON ISLAND',\n",
       "       'SOUTH PACIFIC OCEAN', 'NEW GUINEA', 'RED SEA',\n",
       "       'NORTH PACIFIC OCEAN', 'FEDERATED STATES OF MICRONESIA',\n",
       "       'MID ATLANTIC OCEAN', 'ADMIRALTY ISLANDS', 'BRITISH WEST INDIES',\n",
       "       'SOUTH ATLANTIC OCEAN', 'PERSIAN GULF', 'RED SEA / INDIAN OCEAN',\n",
       "       'PACIFIC OCEAN', 'NORTH SEA', 'NICARAGUA ', 'MALDIVE ISLANDS',\n",
       "       'AMERICAN SAMOA', 'ANDAMAN / NICOBAR ISLANDAS', 'GABON', 'MAYOTTE',\n",
       "       'NORTH ATLANTIC OCEAN ', 'THE BALKANS', 'SUDAN?', 'ARGENTINA',\n",
       "       'MARTINIQUE', 'INDIAN OCEAN', 'GUATEMALA', 'NETHERLANDS ANTILLES',\n",
       "       'NORTHERN MARIANA ISLANDS', 'IRAN / IRAQ', 'JAVA', 'SIERRA LEONE',\n",
       "       ' PHILIPPINES', 'NICARAGUA', 'CENTRAL PACIFIC',\n",
       "       'SOLOMON ISLANDS / VANUATU', 'SOUTHWEST PACIFIC OCEAN',\n",
       "       'BAY OF BENGAL', 'MID-PACIFC OCEAN', 'SLOVENIA', 'CURACAO',\n",
       "       'ICELAND', 'ITALY / CROATIA', 'BARBADOS', 'MONACO', 'GUYANA',\n",
       "       'HAITI', 'SAN DOMINGO', 'IRELAND', 'KUWAIT', 'YEMEN ',\n",
       "       'REUNION ISLAND', 'FALKLAND ISLANDS', 'CRETE', 'CYPRUS', 'EGYPT ',\n",
       "       'WEST INDIES', 'BURMA', 'LEBANON', 'PARAGUAY',\n",
       "       'BRITISH NEW GUINEA', 'CEYLON', 'OCEAN', 'GEORGIA', 'SYRIA',\n",
       "       'TUVALU', 'INDIAN OCEAN?', 'GUINEA', 'ANDAMAN ISLANDS',\n",
       "       'EQUATORIAL GUINEA / CAMEROON', 'COOK ISLANDS', 'TOBAGO', 'PERU',\n",
       "       'AFRICA', 'ALGERIA', 'Coast of AFRICA', 'TASMAN SEA', 'GHANA',\n",
       "       'GREENLAND', 'MEDITERRANEAN SEA', 'SWEDEN', 'ROATAN',\n",
       "       'Between PORTUGAL & INDIA', 'DJIBOUTI', 'BAHREIN', 'KOREA',\n",
       "       'RED SEA?', 'ASIA?', 'CEYLON (SRI LANKA)'], dtype=object)"
      ]
     },
     "execution_count": 98,
     "metadata": {},
     "output_type": "execute_result"
    }
   ],
   "source": [
    "#attacks[\"Country\"].nunique()\n",
    "attacks[\"Country\"].unique()"
   ]
  },
  {
   "cell_type": "code",
   "execution_count": 101,
   "metadata": {},
   "outputs": [
    {
     "data": {
      "text/plain": [
       "4108"
      ]
     },
     "execution_count": 101,
     "metadata": {},
     "output_type": "execute_result"
    }
   ],
   "source": [
    "attacks[\"Location\"].nunique()\n",
    "#might be too much work"
   ]
  },
  {
   "cell_type": "code",
   "execution_count": 103,
   "metadata": {},
   "outputs": [
    {
     "data": {
      "text/plain": [
       "825"
      ]
     },
     "execution_count": 103,
     "metadata": {},
     "output_type": "execute_result"
    }
   ],
   "source": [
    "attacks[\"Area\"].nunique()\n",
    "#might be too much work"
   ]
  },
  {
   "cell_type": "code",
   "execution_count": 110,
   "metadata": {},
   "outputs": [
    {
     "data": {
      "text/plain": [
       "array(['18h00', '14h00  -15h00', '07h45', nan, 'Late afternoon', '17h00',\n",
       "       '14h00', 'Morning', '15h00', '08h15', '11h00', '10h30', '10h40',\n",
       "       '16h50', '07h00', '09h30', 'Afternoon', '21h50', '09h40', '08h00',\n",
       "       '17h35', '15h30', '07h30', '19h00, Dusk', 'Night', '16h00',\n",
       "       '15h01', '12h00', '13h45', '23h30', '09h00', '14h30', '18h30',\n",
       "       '12h30', '16h30', '18h45', '06h00', '10h00', '10h44', '13h19',\n",
       "       'Midday', '13h30', '10h45', '11h20', '11h45', '19h30', '08h30',\n",
       "       '15h45', 'Shortly before 12h00', '17h34', '17h10', '11h15',\n",
       "       '08h50', '17h45', '13h00', '10h20', '13h20', '02h00', '09h50',\n",
       "       '11h30', '17h30', '9h00', '10h43', 'After noon', '15h15', '15h40',\n",
       "       '19h05', '1300', '14h30 / 15h30', '22h00', '16h20', '14h34',\n",
       "       '15h25', '14h55', '17h46', 'Morning ', '15h49', '19h00',\n",
       "       'Midnight', '09h30 / 10h00', '10h15', '18h15', '04h00', '14h50',\n",
       "       '13h50', '19h20', '10h25', '10h45-11h15', '16h45', '15h52',\n",
       "       '06h15', '14h40', '19h45', '10h10', '08h45', 'Evening', '12h10',\n",
       "       '18h05', '11h41', '12h25', '17h51', '16h12', '12h45', '10h50',\n",
       "       '14h15', '09h45', '06h45', '05h00', '03h30',\n",
       "       'Sometime between 06h00 & 08hoo', '06h30', '17h20', '20h00',\n",
       "       '16h40', '16h18', '11h10', 'Early afternoon', '17h50',\n",
       "       '07h00 - 08h00', '18h15-18h30', '17h01', '09h57', '08h20', '17h58',\n",
       "       '20h30', '15h19', '10h55', '15h55', '23h00', '12h40', '13h55',\n",
       "       '16h05', '14h10', '15h20', '12h50', '14h45', '13h40', '13h24',\n",
       "       '09h00 - 09h30', '0830', '11h40', '08h10', '15h56', '14h20',\n",
       "       'Just before noon', '07h56', '1600', '17h17', '16h35', '09h05',\n",
       "       '07h15', '07h20', '19h28', '12h38', '05h50', '15h50', '11h05',\n",
       "       'Early morning', 'Dawn', '05h45', '13h25', '12h20', '13h26',\n",
       "       '09h11', '12h15', '13h15', '18h20', '15h35', 'AM', '13h51', 'A.M.',\n",
       "       '08h05', '19h15', '10h35', '15h44', 'Dusk', '21h00', 'Lunchtime',\n",
       "       '15j45', '09h35', '10h27', '10h16', '0500', 'Before 07h00',\n",
       "       '09h20', '10h00 -- 11h00', '12h05', '14h21', '18h50', '15h53',\n",
       "       '\"Just before 11h00\"', '11h115', '13h42', '20h15', '12h39',\n",
       "       '07h05', 'Sunset', '  ', '13h05', '11h50', '\"Evening\"',\n",
       "       'Just before sundown', '17h55', '22h30', '17h15', '16h10',\n",
       "       '11h30 ', '06h10', '16h15', 'Between 05h00 and 08h00', '07h08',\n",
       "       '17h00 or 17h40', '03h00', '>08h00', '--', '12h02', '12h55',\n",
       "       '16h14', '17h11', '00h30', '14h37', '10h07', '13h53', '11h55',\n",
       "       '13h23', 'Just after 12h00', '02h30', '08h40', '11h56', '14h35',\n",
       "       ' ', 'Early Morning', '07h50', 'Shortly after midnight', '14h25',\n",
       "       '13h345', '\\xa0 ', '06h47', '09h00 -10h00', '20h45 (Sunset)',\n",
       "       'Late morning', 'P.M.', '18h40', '13h14', '13h06',\n",
       "       'Shortly before 13h00', '12h34', '11h53', '8:04 pm', '12h46',\n",
       "       '12h48', '17h42', '12h35', 'Possibly same incident as 2000.08.21',\n",
       "       'After Dusk', '11h57', 'Noon', '17h40', '11h25', '18h25', '10h28',\n",
       "       '09h15', '14h16', '09h55', '2 hours after Opperman', '15h05',\n",
       "       '09h30 ', 'Mid afternoon', 'Mid morning', '11h48', '11h00 / 11h30',\n",
       "       '07h19', '13h37', '11h06', '\"Night\"', '18h30?', '11h58', '11h51',\n",
       "       '18h12', '07h10', '07h40', '12h33',\n",
       "       '30 minutes after 1992.07.08.a', '>06h45', '15h06', '12h54',\n",
       "       'Between 06h00 & 07h20', '16h55', '05h40', '<07h30', '21h30',\n",
       "       '17h00 Sunset', 'Nightfall', 'X', '08h57', '18h30 (Sunset)',\n",
       "       '06j00', '08h35', '10h22', '02h45', 'Prior to 10h37', 'Daybreak',\n",
       "       '18h10', '>12h00', 'Mid-morning', '08h55', '16h30 or 18h00',\n",
       "       'Just before dawn', ' 14h00', 'Daytime', '06h50', '01h00', 'Dark',\n",
       "       '10h00 / 11h00', '\"After lunch\"', '07h32', '15h00 or 15h45',\n",
       "       '>17h00', '19h00 / 20h00', '12h45 / 13h45', '14h00 - 15h00',\n",
       "       'night', '03h45 - 04h00', '13h10', '09h30 / 15h30',\n",
       "       '08h00 / 09h30', '19h35', '12h00 to 14h00', '13h35', 'Late night',\n",
       "       '01h32', '10h30 or 13h30', '16h23', '15h00j', 'Midday.',\n",
       "       '\"After dark\"', '10h00 or 14h00', '19h10', '16h25',\n",
       "       '2 hrs before sunset', '18h15 to 21h30', '1500',\n",
       "       '\"shortly before dusk\"', '>17h30', '>14h30',\n",
       "       'Between 11h00 & 12h00', 'After 04h00',\n",
       "       '11h01 -time of ship sinking', 'Ship aban-doned at 03h10', '19h55',\n",
       "       'After dusk',\n",
       "       'FATAL  (Wire netting installed at local beaches after this incident.)',\n",
       "       '01h30', 'After midnight', 'Late afternon', '05h30', '08h58',\n",
       "       '\"Early evening\"', 'Late Afternoon', '   ', 'Before daybreak',\n",
       "       'dusk', 'Before 10h30', '06h00 -- 07h00', '01h50', '17h00-18h00',\n",
       "       '19h00-20h00'], dtype=object)"
      ]
     },
     "execution_count": 110,
     "metadata": {},
     "output_type": "execute_result"
    }
   ],
   "source": [
    "attacks[\"Time\"].unique()\n",
    "# cleanable but might be too much"
   ]
  },
  {
   "cell_type": "code",
   "execution_count": null,
   "metadata": {},
   "outputs": [],
   "source": []
  }
 ],
 "metadata": {
  "kernelspec": {
   "display_name": "ironhack",
   "language": "python",
   "name": "python3"
  },
  "language_info": {
   "codemirror_mode": {
    "name": "ipython",
    "version": 3
   },
   "file_extension": ".py",
   "mimetype": "text/x-python",
   "name": "python",
   "nbconvert_exporter": "python",
   "pygments_lexer": "ipython3",
   "version": "3.11.5"
  }
 },
 "nbformat": 4,
 "nbformat_minor": 2
}
